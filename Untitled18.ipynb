{
  "nbformat": 4,
  "nbformat_minor": 0,
  "metadata": {
    "colab": {
      "provenance": [],
      "authorship_tag": "ABX9TyPyMb/blSfnQl6/OT60VeXO",
      "include_colab_link": true
    },
    "kernelspec": {
      "name": "python3",
      "display_name": "Python 3"
    },
    "language_info": {
      "name": "python"
    },
    "widgets": {
      "application/vnd.jupyter.widget-state+json": {
        "72fb8c8f25ce44d18bac33f66f9a7f15": {
          "model_module": "@jupyter-widgets/controls",
          "model_name": "HBoxModel",
          "model_module_version": "1.5.0",
          "state": {
            "_dom_classes": [],
            "_model_module": "@jupyter-widgets/controls",
            "_model_module_version": "1.5.0",
            "_model_name": "HBoxModel",
            "_view_count": null,
            "_view_module": "@jupyter-widgets/controls",
            "_view_module_version": "1.5.0",
            "_view_name": "HBoxView",
            "box_style": "",
            "children": [
              "IPY_MODEL_bdc1b7c4e9044e568501c0a03a178dce",
              "IPY_MODEL_0a148f0f0ffb4d8eb92e14ea1bf06708",
              "IPY_MODEL_84de1d35c0a4497e8aab8b0027fd055e"
            ],
            "layout": "IPY_MODEL_5399439b8a334fcebb3d795f8e538fa8"
          }
        },
        "bdc1b7c4e9044e568501c0a03a178dce": {
          "model_module": "@jupyter-widgets/controls",
          "model_name": "HTMLModel",
          "model_module_version": "1.5.0",
          "state": {
            "_dom_classes": [],
            "_model_module": "@jupyter-widgets/controls",
            "_model_module_version": "1.5.0",
            "_model_name": "HTMLModel",
            "_view_count": null,
            "_view_module": "@jupyter-widgets/controls",
            "_view_module_version": "1.5.0",
            "_view_name": "HTMLView",
            "description": "",
            "description_tooltip": null,
            "layout": "IPY_MODEL_8a38f703c9c0452b9d9131e0f5e4d2e3",
            "placeholder": "​",
            "style": "IPY_MODEL_375be8e3ab72406a851dd2d81ebfa98d",
            "value": "Processing: 100%"
          }
        },
        "0a148f0f0ffb4d8eb92e14ea1bf06708": {
          "model_module": "@jupyter-widgets/controls",
          "model_name": "FloatProgressModel",
          "model_module_version": "1.5.0",
          "state": {
            "_dom_classes": [],
            "_model_module": "@jupyter-widgets/controls",
            "_model_module_version": "1.5.0",
            "_model_name": "FloatProgressModel",
            "_view_count": null,
            "_view_module": "@jupyter-widgets/controls",
            "_view_module_version": "1.5.0",
            "_view_name": "ProgressView",
            "bar_style": "",
            "description": "",
            "description_tooltip": null,
            "layout": "IPY_MODEL_49e053d997bf403e9a0a6cb8d8095559",
            "max": 65,
            "min": 0,
            "orientation": "horizontal",
            "style": "IPY_MODEL_c4fb5b34a9c44220b12609a11a90c1f4",
            "value": 65
          }
        },
        "84de1d35c0a4497e8aab8b0027fd055e": {
          "model_module": "@jupyter-widgets/controls",
          "model_name": "HTMLModel",
          "model_module_version": "1.5.0",
          "state": {
            "_dom_classes": [],
            "_model_module": "@jupyter-widgets/controls",
            "_model_module_version": "1.5.0",
            "_model_name": "HTMLModel",
            "_view_count": null,
            "_view_module": "@jupyter-widgets/controls",
            "_view_module_version": "1.5.0",
            "_view_name": "HTMLView",
            "description": "",
            "description_tooltip": null,
            "layout": "IPY_MODEL_43cb15ed98614c0ab3d985e9b748ad66",
            "placeholder": "​",
            "style": "IPY_MODEL_f75b5506f4e24b14b0084f733f560d1e",
            "value": " 65/65 [01:20&lt;00:00,  1.53it/s]"
          }
        },
        "5399439b8a334fcebb3d795f8e538fa8": {
          "model_module": "@jupyter-widgets/base",
          "model_name": "LayoutModel",
          "model_module_version": "1.2.0",
          "state": {
            "_model_module": "@jupyter-widgets/base",
            "_model_module_version": "1.2.0",
            "_model_name": "LayoutModel",
            "_view_count": null,
            "_view_module": "@jupyter-widgets/base",
            "_view_module_version": "1.2.0",
            "_view_name": "LayoutView",
            "align_content": null,
            "align_items": null,
            "align_self": null,
            "border": null,
            "bottom": null,
            "display": null,
            "flex": null,
            "flex_flow": null,
            "grid_area": null,
            "grid_auto_columns": null,
            "grid_auto_flow": null,
            "grid_auto_rows": null,
            "grid_column": null,
            "grid_gap": null,
            "grid_row": null,
            "grid_template_areas": null,
            "grid_template_columns": null,
            "grid_template_rows": null,
            "height": null,
            "justify_content": null,
            "justify_items": null,
            "left": null,
            "margin": null,
            "max_height": null,
            "max_width": null,
            "min_height": null,
            "min_width": null,
            "object_fit": null,
            "object_position": null,
            "order": null,
            "overflow": null,
            "overflow_x": null,
            "overflow_y": null,
            "padding": null,
            "right": null,
            "top": null,
            "visibility": "hidden",
            "width": null
          }
        },
        "8a38f703c9c0452b9d9131e0f5e4d2e3": {
          "model_module": "@jupyter-widgets/base",
          "model_name": "LayoutModel",
          "model_module_version": "1.2.0",
          "state": {
            "_model_module": "@jupyter-widgets/base",
            "_model_module_version": "1.2.0",
            "_model_name": "LayoutModel",
            "_view_count": null,
            "_view_module": "@jupyter-widgets/base",
            "_view_module_version": "1.2.0",
            "_view_name": "LayoutView",
            "align_content": null,
            "align_items": null,
            "align_self": null,
            "border": null,
            "bottom": null,
            "display": null,
            "flex": null,
            "flex_flow": null,
            "grid_area": null,
            "grid_auto_columns": null,
            "grid_auto_flow": null,
            "grid_auto_rows": null,
            "grid_column": null,
            "grid_gap": null,
            "grid_row": null,
            "grid_template_areas": null,
            "grid_template_columns": null,
            "grid_template_rows": null,
            "height": null,
            "justify_content": null,
            "justify_items": null,
            "left": null,
            "margin": null,
            "max_height": null,
            "max_width": null,
            "min_height": null,
            "min_width": null,
            "object_fit": null,
            "object_position": null,
            "order": null,
            "overflow": null,
            "overflow_x": null,
            "overflow_y": null,
            "padding": null,
            "right": null,
            "top": null,
            "visibility": null,
            "width": null
          }
        },
        "375be8e3ab72406a851dd2d81ebfa98d": {
          "model_module": "@jupyter-widgets/controls",
          "model_name": "DescriptionStyleModel",
          "model_module_version": "1.5.0",
          "state": {
            "_model_module": "@jupyter-widgets/controls",
            "_model_module_version": "1.5.0",
            "_model_name": "DescriptionStyleModel",
            "_view_count": null,
            "_view_module": "@jupyter-widgets/base",
            "_view_module_version": "1.2.0",
            "_view_name": "StyleView",
            "description_width": ""
          }
        },
        "49e053d997bf403e9a0a6cb8d8095559": {
          "model_module": "@jupyter-widgets/base",
          "model_name": "LayoutModel",
          "model_module_version": "1.2.0",
          "state": {
            "_model_module": "@jupyter-widgets/base",
            "_model_module_version": "1.2.0",
            "_model_name": "LayoutModel",
            "_view_count": null,
            "_view_module": "@jupyter-widgets/base",
            "_view_module_version": "1.2.0",
            "_view_name": "LayoutView",
            "align_content": null,
            "align_items": null,
            "align_self": null,
            "border": null,
            "bottom": null,
            "display": null,
            "flex": null,
            "flex_flow": null,
            "grid_area": null,
            "grid_auto_columns": null,
            "grid_auto_flow": null,
            "grid_auto_rows": null,
            "grid_column": null,
            "grid_gap": null,
            "grid_row": null,
            "grid_template_areas": null,
            "grid_template_columns": null,
            "grid_template_rows": null,
            "height": null,
            "justify_content": null,
            "justify_items": null,
            "left": null,
            "margin": null,
            "max_height": null,
            "max_width": null,
            "min_height": null,
            "min_width": null,
            "object_fit": null,
            "object_position": null,
            "order": null,
            "overflow": null,
            "overflow_x": null,
            "overflow_y": null,
            "padding": null,
            "right": null,
            "top": null,
            "visibility": null,
            "width": null
          }
        },
        "c4fb5b34a9c44220b12609a11a90c1f4": {
          "model_module": "@jupyter-widgets/controls",
          "model_name": "ProgressStyleModel",
          "model_module_version": "1.5.0",
          "state": {
            "_model_module": "@jupyter-widgets/controls",
            "_model_module_version": "1.5.0",
            "_model_name": "ProgressStyleModel",
            "_view_count": null,
            "_view_module": "@jupyter-widgets/base",
            "_view_module_version": "1.2.0",
            "_view_name": "StyleView",
            "bar_color": null,
            "description_width": ""
          }
        },
        "43cb15ed98614c0ab3d985e9b748ad66": {
          "model_module": "@jupyter-widgets/base",
          "model_name": "LayoutModel",
          "model_module_version": "1.2.0",
          "state": {
            "_model_module": "@jupyter-widgets/base",
            "_model_module_version": "1.2.0",
            "_model_name": "LayoutModel",
            "_view_count": null,
            "_view_module": "@jupyter-widgets/base",
            "_view_module_version": "1.2.0",
            "_view_name": "LayoutView",
            "align_content": null,
            "align_items": null,
            "align_self": null,
            "border": null,
            "bottom": null,
            "display": null,
            "flex": null,
            "flex_flow": null,
            "grid_area": null,
            "grid_auto_columns": null,
            "grid_auto_flow": null,
            "grid_auto_rows": null,
            "grid_column": null,
            "grid_gap": null,
            "grid_row": null,
            "grid_template_areas": null,
            "grid_template_columns": null,
            "grid_template_rows": null,
            "height": null,
            "justify_content": null,
            "justify_items": null,
            "left": null,
            "margin": null,
            "max_height": null,
            "max_width": null,
            "min_height": null,
            "min_width": null,
            "object_fit": null,
            "object_position": null,
            "order": null,
            "overflow": null,
            "overflow_x": null,
            "overflow_y": null,
            "padding": null,
            "right": null,
            "top": null,
            "visibility": null,
            "width": null
          }
        },
        "f75b5506f4e24b14b0084f733f560d1e": {
          "model_module": "@jupyter-widgets/controls",
          "model_name": "DescriptionStyleModel",
          "model_module_version": "1.5.0",
          "state": {
            "_model_module": "@jupyter-widgets/controls",
            "_model_module_version": "1.5.0",
            "_model_name": "DescriptionStyleModel",
            "_view_count": null,
            "_view_module": "@jupyter-widgets/base",
            "_view_module_version": "1.2.0",
            "_view_name": "StyleView",
            "description_width": ""
          }
        },
        "bc92360a90de4533a4bb69bb40eb8f64": {
          "model_module": "@jupyter-widgets/controls",
          "model_name": "HBoxModel",
          "model_module_version": "1.5.0",
          "state": {
            "_dom_classes": [],
            "_model_module": "@jupyter-widgets/controls",
            "_model_module_version": "1.5.0",
            "_model_name": "HBoxModel",
            "_view_count": null,
            "_view_module": "@jupyter-widgets/controls",
            "_view_module_version": "1.5.0",
            "_view_name": "HBoxView",
            "box_style": "",
            "children": [
              "IPY_MODEL_4c8e0c379f4f4cf7bc906715328cac99",
              "IPY_MODEL_1f399e9ffa694231a02b529c2b4278f2",
              "IPY_MODEL_c2a8518ff33d4b279ea63219950ec820"
            ],
            "layout": "IPY_MODEL_25a2867202844f828bc3b84d01d1e5e7"
          }
        },
        "4c8e0c379f4f4cf7bc906715328cac99": {
          "model_module": "@jupyter-widgets/controls",
          "model_name": "HTMLModel",
          "model_module_version": "1.5.0",
          "state": {
            "_dom_classes": [],
            "_model_module": "@jupyter-widgets/controls",
            "_model_module_version": "1.5.0",
            "_model_name": "HTMLModel",
            "_view_count": null,
            "_view_module": "@jupyter-widgets/controls",
            "_view_module_version": "1.5.0",
            "_view_name": "HTMLView",
            "description": "",
            "description_tooltip": null,
            "layout": "IPY_MODEL_4e8f3989720d429091bb7acd8a17a511",
            "placeholder": "​",
            "style": "IPY_MODEL_9fe34461ee2646b896b5dad7e8df8f61",
            "value": "Processing: 100%"
          }
        },
        "1f399e9ffa694231a02b529c2b4278f2": {
          "model_module": "@jupyter-widgets/controls",
          "model_name": "FloatProgressModel",
          "model_module_version": "1.5.0",
          "state": {
            "_dom_classes": [],
            "_model_module": "@jupyter-widgets/controls",
            "_model_module_version": "1.5.0",
            "_model_name": "FloatProgressModel",
            "_view_count": null,
            "_view_module": "@jupyter-widgets/controls",
            "_view_module_version": "1.5.0",
            "_view_name": "ProgressView",
            "bar_style": "",
            "description": "",
            "description_tooltip": null,
            "layout": "IPY_MODEL_b0465a4a109d490fa29be066ab77124e",
            "max": 4,
            "min": 0,
            "orientation": "horizontal",
            "style": "IPY_MODEL_cbb7fef685284aef9315a325be18b8d5",
            "value": 4
          }
        },
        "c2a8518ff33d4b279ea63219950ec820": {
          "model_module": "@jupyter-widgets/controls",
          "model_name": "HTMLModel",
          "model_module_version": "1.5.0",
          "state": {
            "_dom_classes": [],
            "_model_module": "@jupyter-widgets/controls",
            "_model_module_version": "1.5.0",
            "_model_name": "HTMLModel",
            "_view_count": null,
            "_view_module": "@jupyter-widgets/controls",
            "_view_module_version": "1.5.0",
            "_view_name": "HTMLView",
            "description": "",
            "description_tooltip": null,
            "layout": "IPY_MODEL_d259513bbc484f9388442c9676fdbcdc",
            "placeholder": "​",
            "style": "IPY_MODEL_64740aee06084e05991a822e85570b52",
            "value": " 4/4 [00:05&lt;00:00,  1.24s/it]"
          }
        },
        "25a2867202844f828bc3b84d01d1e5e7": {
          "model_module": "@jupyter-widgets/base",
          "model_name": "LayoutModel",
          "model_module_version": "1.2.0",
          "state": {
            "_model_module": "@jupyter-widgets/base",
            "_model_module_version": "1.2.0",
            "_model_name": "LayoutModel",
            "_view_count": null,
            "_view_module": "@jupyter-widgets/base",
            "_view_module_version": "1.2.0",
            "_view_name": "LayoutView",
            "align_content": null,
            "align_items": null,
            "align_self": null,
            "border": null,
            "bottom": null,
            "display": null,
            "flex": null,
            "flex_flow": null,
            "grid_area": null,
            "grid_auto_columns": null,
            "grid_auto_flow": null,
            "grid_auto_rows": null,
            "grid_column": null,
            "grid_gap": null,
            "grid_row": null,
            "grid_template_areas": null,
            "grid_template_columns": null,
            "grid_template_rows": null,
            "height": null,
            "justify_content": null,
            "justify_items": null,
            "left": null,
            "margin": null,
            "max_height": null,
            "max_width": null,
            "min_height": null,
            "min_width": null,
            "object_fit": null,
            "object_position": null,
            "order": null,
            "overflow": null,
            "overflow_x": null,
            "overflow_y": null,
            "padding": null,
            "right": null,
            "top": null,
            "visibility": "hidden",
            "width": null
          }
        },
        "4e8f3989720d429091bb7acd8a17a511": {
          "model_module": "@jupyter-widgets/base",
          "model_name": "LayoutModel",
          "model_module_version": "1.2.0",
          "state": {
            "_model_module": "@jupyter-widgets/base",
            "_model_module_version": "1.2.0",
            "_model_name": "LayoutModel",
            "_view_count": null,
            "_view_module": "@jupyter-widgets/base",
            "_view_module_version": "1.2.0",
            "_view_name": "LayoutView",
            "align_content": null,
            "align_items": null,
            "align_self": null,
            "border": null,
            "bottom": null,
            "display": null,
            "flex": null,
            "flex_flow": null,
            "grid_area": null,
            "grid_auto_columns": null,
            "grid_auto_flow": null,
            "grid_auto_rows": null,
            "grid_column": null,
            "grid_gap": null,
            "grid_row": null,
            "grid_template_areas": null,
            "grid_template_columns": null,
            "grid_template_rows": null,
            "height": null,
            "justify_content": null,
            "justify_items": null,
            "left": null,
            "margin": null,
            "max_height": null,
            "max_width": null,
            "min_height": null,
            "min_width": null,
            "object_fit": null,
            "object_position": null,
            "order": null,
            "overflow": null,
            "overflow_x": null,
            "overflow_y": null,
            "padding": null,
            "right": null,
            "top": null,
            "visibility": null,
            "width": null
          }
        },
        "9fe34461ee2646b896b5dad7e8df8f61": {
          "model_module": "@jupyter-widgets/controls",
          "model_name": "DescriptionStyleModel",
          "model_module_version": "1.5.0",
          "state": {
            "_model_module": "@jupyter-widgets/controls",
            "_model_module_version": "1.5.0",
            "_model_name": "DescriptionStyleModel",
            "_view_count": null,
            "_view_module": "@jupyter-widgets/base",
            "_view_module_version": "1.2.0",
            "_view_name": "StyleView",
            "description_width": ""
          }
        },
        "b0465a4a109d490fa29be066ab77124e": {
          "model_module": "@jupyter-widgets/base",
          "model_name": "LayoutModel",
          "model_module_version": "1.2.0",
          "state": {
            "_model_module": "@jupyter-widgets/base",
            "_model_module_version": "1.2.0",
            "_model_name": "LayoutModel",
            "_view_count": null,
            "_view_module": "@jupyter-widgets/base",
            "_view_module_version": "1.2.0",
            "_view_name": "LayoutView",
            "align_content": null,
            "align_items": null,
            "align_self": null,
            "border": null,
            "bottom": null,
            "display": null,
            "flex": null,
            "flex_flow": null,
            "grid_area": null,
            "grid_auto_columns": null,
            "grid_auto_flow": null,
            "grid_auto_rows": null,
            "grid_column": null,
            "grid_gap": null,
            "grid_row": null,
            "grid_template_areas": null,
            "grid_template_columns": null,
            "grid_template_rows": null,
            "height": null,
            "justify_content": null,
            "justify_items": null,
            "left": null,
            "margin": null,
            "max_height": null,
            "max_width": null,
            "min_height": null,
            "min_width": null,
            "object_fit": null,
            "object_position": null,
            "order": null,
            "overflow": null,
            "overflow_x": null,
            "overflow_y": null,
            "padding": null,
            "right": null,
            "top": null,
            "visibility": null,
            "width": null
          }
        },
        "cbb7fef685284aef9315a325be18b8d5": {
          "model_module": "@jupyter-widgets/controls",
          "model_name": "ProgressStyleModel",
          "model_module_version": "1.5.0",
          "state": {
            "_model_module": "@jupyter-widgets/controls",
            "_model_module_version": "1.5.0",
            "_model_name": "ProgressStyleModel",
            "_view_count": null,
            "_view_module": "@jupyter-widgets/base",
            "_view_module_version": "1.2.0",
            "_view_name": "StyleView",
            "bar_color": null,
            "description_width": ""
          }
        },
        "d259513bbc484f9388442c9676fdbcdc": {
          "model_module": "@jupyter-widgets/base",
          "model_name": "LayoutModel",
          "model_module_version": "1.2.0",
          "state": {
            "_model_module": "@jupyter-widgets/base",
            "_model_module_version": "1.2.0",
            "_model_name": "LayoutModel",
            "_view_count": null,
            "_view_module": "@jupyter-widgets/base",
            "_view_module_version": "1.2.0",
            "_view_name": "LayoutView",
            "align_content": null,
            "align_items": null,
            "align_self": null,
            "border": null,
            "bottom": null,
            "display": null,
            "flex": null,
            "flex_flow": null,
            "grid_area": null,
            "grid_auto_columns": null,
            "grid_auto_flow": null,
            "grid_auto_rows": null,
            "grid_column": null,
            "grid_gap": null,
            "grid_row": null,
            "grid_template_areas": null,
            "grid_template_columns": null,
            "grid_template_rows": null,
            "height": null,
            "justify_content": null,
            "justify_items": null,
            "left": null,
            "margin": null,
            "max_height": null,
            "max_width": null,
            "min_height": null,
            "min_width": null,
            "object_fit": null,
            "object_position": null,
            "order": null,
            "overflow": null,
            "overflow_x": null,
            "overflow_y": null,
            "padding": null,
            "right": null,
            "top": null,
            "visibility": null,
            "width": null
          }
        },
        "64740aee06084e05991a822e85570b52": {
          "model_module": "@jupyter-widgets/controls",
          "model_name": "DescriptionStyleModel",
          "model_module_version": "1.5.0",
          "state": {
            "_model_module": "@jupyter-widgets/controls",
            "_model_module_version": "1.5.0",
            "_model_name": "DescriptionStyleModel",
            "_view_count": null,
            "_view_module": "@jupyter-widgets/base",
            "_view_module_version": "1.2.0",
            "_view_name": "StyleView",
            "description_width": ""
          }
        },
        "ac33f989d07b4e858f4ac091240d0089": {
          "model_module": "@jupyter-widgets/controls",
          "model_name": "VBoxModel",
          "model_module_version": "1.5.0",
          "state": {
            "_dom_classes": [
              "widget-interact"
            ],
            "_model_module": "@jupyter-widgets/controls",
            "_model_module_version": "1.5.0",
            "_model_name": "VBoxModel",
            "_view_count": null,
            "_view_module": "@jupyter-widgets/controls",
            "_view_module_version": "1.5.0",
            "_view_name": "VBoxView",
            "box_style": "",
            "children": [
              "IPY_MODEL_c121c82fe3814413a3f8bb84091894bc",
              "IPY_MODEL_19608272fa774652b6c878ba86e97ab3"
            ],
            "layout": "IPY_MODEL_a14569bfaa354685b4911c6449ad2d24"
          }
        },
        "c121c82fe3814413a3f8bb84091894bc": {
          "model_module": "@jupyter-widgets/controls",
          "model_name": "ToggleButtonsModel",
          "model_module_version": "1.5.0",
          "state": {
            "_dom_classes": [],
            "_model_module": "@jupyter-widgets/controls",
            "_model_module_version": "1.5.0",
            "_model_name": "ToggleButtonsModel",
            "_options_labels": [
              "Pipeline Plot",
              "Hyperparameters",
              "AUC",
              "Confusion Matrix",
              "Threshold",
              "Precision Recall",
              "Prediction Error",
              "Class Report",
              "Feature Selection",
              "Learning Curve",
              "Manifold Learning",
              "Calibration Curve",
              "Validation Curve",
              "Dimensions",
              "Feature Importance",
              "Feature Importance (All)",
              "Decision Boundary",
              "Lift Chart",
              "Gain Chart",
              "Decision Tree",
              "KS Statistic Plot"
            ],
            "_view_count": null,
            "_view_module": "@jupyter-widgets/controls",
            "_view_module_version": "1.5.0",
            "_view_name": "ToggleButtonsView",
            "button_style": "",
            "description": "Plot Type:",
            "description_tooltip": null,
            "disabled": false,
            "icons": [
              ""
            ],
            "index": 0,
            "layout": "IPY_MODEL_d15b6f87aca54a14834254b0b2330fa2",
            "style": "IPY_MODEL_8d69731eb6724cdf8b3d5b0d0194a26f",
            "tooltips": []
          }
        },
        "19608272fa774652b6c878ba86e97ab3": {
          "model_module": "@jupyter-widgets/output",
          "model_name": "OutputModel",
          "model_module_version": "1.0.0",
          "state": {
            "_dom_classes": [],
            "_model_module": "@jupyter-widgets/output",
            "_model_module_version": "1.0.0",
            "_model_name": "OutputModel",
            "_view_count": null,
            "_view_module": "@jupyter-widgets/output",
            "_view_module_version": "1.0.0",
            "_view_name": "OutputView",
            "layout": "IPY_MODEL_11e2c565b1c946e4a6e94254810eb28c",
            "msg_id": "",
            "outputs": [
              {
                "output_type": "display_data",
                "data": {
                  "text/plain": "<Figure size 2200x600 with 1 Axes>",
                  "image/png": "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\n"
                },
                "metadata": {}
              }
            ]
          }
        },
        "a14569bfaa354685b4911c6449ad2d24": {
          "model_module": "@jupyter-widgets/base",
          "model_name": "LayoutModel",
          "model_module_version": "1.2.0",
          "state": {
            "_model_module": "@jupyter-widgets/base",
            "_model_module_version": "1.2.0",
            "_model_name": "LayoutModel",
            "_view_count": null,
            "_view_module": "@jupyter-widgets/base",
            "_view_module_version": "1.2.0",
            "_view_name": "LayoutView",
            "align_content": null,
            "align_items": null,
            "align_self": null,
            "border": null,
            "bottom": null,
            "display": null,
            "flex": null,
            "flex_flow": null,
            "grid_area": null,
            "grid_auto_columns": null,
            "grid_auto_flow": null,
            "grid_auto_rows": null,
            "grid_column": null,
            "grid_gap": null,
            "grid_row": null,
            "grid_template_areas": null,
            "grid_template_columns": null,
            "grid_template_rows": null,
            "height": null,
            "justify_content": null,
            "justify_items": null,
            "left": null,
            "margin": null,
            "max_height": null,
            "max_width": null,
            "min_height": null,
            "min_width": null,
            "object_fit": null,
            "object_position": null,
            "order": null,
            "overflow": null,
            "overflow_x": null,
            "overflow_y": null,
            "padding": null,
            "right": null,
            "top": null,
            "visibility": null,
            "width": null
          }
        },
        "d15b6f87aca54a14834254b0b2330fa2": {
          "model_module": "@jupyter-widgets/base",
          "model_name": "LayoutModel",
          "model_module_version": "1.2.0",
          "state": {
            "_model_module": "@jupyter-widgets/base",
            "_model_module_version": "1.2.0",
            "_model_name": "LayoutModel",
            "_view_count": null,
            "_view_module": "@jupyter-widgets/base",
            "_view_module_version": "1.2.0",
            "_view_name": "LayoutView",
            "align_content": null,
            "align_items": null,
            "align_self": null,
            "border": null,
            "bottom": null,
            "display": null,
            "flex": null,
            "flex_flow": null,
            "grid_area": null,
            "grid_auto_columns": null,
            "grid_auto_flow": null,
            "grid_auto_rows": null,
            "grid_column": null,
            "grid_gap": null,
            "grid_row": null,
            "grid_template_areas": null,
            "grid_template_columns": null,
            "grid_template_rows": null,
            "height": null,
            "justify_content": null,
            "justify_items": null,
            "left": null,
            "margin": null,
            "max_height": null,
            "max_width": null,
            "min_height": null,
            "min_width": null,
            "object_fit": null,
            "object_position": null,
            "order": null,
            "overflow": null,
            "overflow_x": null,
            "overflow_y": null,
            "padding": null,
            "right": null,
            "top": null,
            "visibility": null,
            "width": null
          }
        },
        "8d69731eb6724cdf8b3d5b0d0194a26f": {
          "model_module": "@jupyter-widgets/controls",
          "model_name": "ToggleButtonsStyleModel",
          "model_module_version": "1.5.0",
          "state": {
            "_model_module": "@jupyter-widgets/controls",
            "_model_module_version": "1.5.0",
            "_model_name": "ToggleButtonsStyleModel",
            "_view_count": null,
            "_view_module": "@jupyter-widgets/base",
            "_view_module_version": "1.2.0",
            "_view_name": "StyleView",
            "button_width": "",
            "description_width": "",
            "font_weight": ""
          }
        },
        "11e2c565b1c946e4a6e94254810eb28c": {
          "model_module": "@jupyter-widgets/base",
          "model_name": "LayoutModel",
          "model_module_version": "1.2.0",
          "state": {
            "_model_module": "@jupyter-widgets/base",
            "_model_module_version": "1.2.0",
            "_model_name": "LayoutModel",
            "_view_count": null,
            "_view_module": "@jupyter-widgets/base",
            "_view_module_version": "1.2.0",
            "_view_name": "LayoutView",
            "align_content": null,
            "align_items": null,
            "align_self": null,
            "border": null,
            "bottom": null,
            "display": null,
            "flex": null,
            "flex_flow": null,
            "grid_area": null,
            "grid_auto_columns": null,
            "grid_auto_flow": null,
            "grid_auto_rows": null,
            "grid_column": null,
            "grid_gap": null,
            "grid_row": null,
            "grid_template_areas": null,
            "grid_template_columns": null,
            "grid_template_rows": null,
            "height": null,
            "justify_content": null,
            "justify_items": null,
            "left": null,
            "margin": null,
            "max_height": null,
            "max_width": null,
            "min_height": null,
            "min_width": null,
            "object_fit": null,
            "object_position": null,
            "order": null,
            "overflow": null,
            "overflow_x": null,
            "overflow_y": null,
            "padding": null,
            "right": null,
            "top": null,
            "visibility": null,
            "width": null
          }
        }
      }
    }
  },
  "cells": [
    {
      "cell_type": "markdown",
      "metadata": {
        "id": "view-in-github",
        "colab_type": "text"
      },
      "source": [
        "<a href=\"https://colab.research.google.com/github/Jacobo0312/hg-0-ai-assignment/blob/main/Untitled18.ipynb\" target=\"_parent\"><img src=\"https://colab.research.google.com/assets/colab-badge.svg\" alt=\"Open In Colab\"/></a>"
      ]
    },
    {
      "cell_type": "code",
      "execution_count": 1,
      "metadata": {
        "colab": {
          "base_uri": "https://localhost:8080/"
        },
        "id": "djfzLixLHFe2",
        "outputId": "9e233b01-355c-49d1-9a87-34cbc29abb41"
      },
      "outputs": [
        {
          "output_type": "stream",
          "name": "stdout",
          "text": [
            "Collecting pycaret\n",
            "  Downloading pycaret-3.3.2-py3-none-any.whl (486 kB)\n",
            "\u001b[2K     \u001b[90m━━━━━━━━━━━━━━━━━━━━━━━━━━━━━━━━━━━━━━━━\u001b[0m \u001b[32m486.1/486.1 kB\u001b[0m \u001b[31m8.4 MB/s\u001b[0m eta \u001b[36m0:00:00\u001b[0m\n",
            "\u001b[?25hRequirement already satisfied: ipython>=5.5.0 in /usr/local/lib/python3.10/dist-packages (from pycaret) (7.34.0)\n",
            "Requirement already satisfied: ipywidgets>=7.6.5 in /usr/local/lib/python3.10/dist-packages (from pycaret) (7.7.1)\n",
            "Requirement already satisfied: tqdm>=4.62.0 in /usr/local/lib/python3.10/dist-packages (from pycaret) (4.66.2)\n",
            "Requirement already satisfied: numpy<1.27,>=1.21 in /usr/local/lib/python3.10/dist-packages (from pycaret) (1.25.2)\n",
            "Requirement already satisfied: pandas<2.2.0 in /usr/local/lib/python3.10/dist-packages (from pycaret) (2.0.3)\n",
            "Requirement already satisfied: jinja2>=3 in /usr/local/lib/python3.10/dist-packages (from pycaret) (3.1.3)\n",
            "Requirement already satisfied: scipy<=1.11.4,>=1.6.1 in /usr/local/lib/python3.10/dist-packages (from pycaret) (1.11.4)\n",
            "Collecting joblib<1.4,>=1.2.0 (from pycaret)\n",
            "  Downloading joblib-1.3.2-py3-none-any.whl (302 kB)\n",
            "\u001b[2K     \u001b[90m━━━━━━━━━━━━━━━━━━━━━━━━━━━━━━━━━━━━━━━━\u001b[0m \u001b[32m302.2/302.2 kB\u001b[0m \u001b[31m19.7 MB/s\u001b[0m eta \u001b[36m0:00:00\u001b[0m\n",
            "\u001b[?25hCollecting scikit-learn>1.4.0 (from pycaret)\n",
            "  Downloading scikit_learn-1.4.2-cp310-cp310-manylinux_2_17_x86_64.manylinux2014_x86_64.whl (12.1 MB)\n",
            "\u001b[2K     \u001b[90m━━━━━━━━━━━━━━━━━━━━━━━━━━━━━━━━━━━━━━━━\u001b[0m \u001b[32m12.1/12.1 MB\u001b[0m \u001b[31m42.8 MB/s\u001b[0m eta \u001b[36m0:00:00\u001b[0m\n",
            "\u001b[?25hCollecting pyod>=1.1.3 (from pycaret)\n",
            "  Downloading pyod-1.1.3.tar.gz (160 kB)\n",
            "\u001b[2K     \u001b[90m━━━━━━━━━━━━━━━━━━━━━━━━━━━━━━━━━━━━━━━━\u001b[0m \u001b[32m160.5/160.5 kB\u001b[0m \u001b[31m16.9 MB/s\u001b[0m eta \u001b[36m0:00:00\u001b[0m\n",
            "\u001b[?25h  Preparing metadata (setup.py) ... \u001b[?25l\u001b[?25hdone\n",
            "Collecting imbalanced-learn>=0.12.0 (from pycaret)\n",
            "  Downloading imbalanced_learn-0.12.2-py3-none-any.whl (257 kB)\n",
            "\u001b[2K     \u001b[90m━━━━━━━━━━━━━━━━━━━━━━━━━━━━━━━━━━━━━━━━\u001b[0m \u001b[32m258.0/258.0 kB\u001b[0m \u001b[31m27.5 MB/s\u001b[0m eta \u001b[36m0:00:00\u001b[0m\n",
            "\u001b[?25hCollecting category-encoders>=2.4.0 (from pycaret)\n",
            "  Downloading category_encoders-2.6.3-py2.py3-none-any.whl (81 kB)\n",
            "\u001b[2K     \u001b[90m━━━━━━━━━━━━━━━━━━━━━━━━━━━━━━━━━━━━━━━━\u001b[0m \u001b[32m81.9/81.9 kB\u001b[0m \u001b[31m9.9 MB/s\u001b[0m eta \u001b[36m0:00:00\u001b[0m\n",
            "\u001b[?25hRequirement already satisfied: lightgbm>=3.0.0 in /usr/local/lib/python3.10/dist-packages (from pycaret) (4.1.0)\n",
            "Requirement already satisfied: numba>=0.55.0 in /usr/local/lib/python3.10/dist-packages (from pycaret) (0.58.1)\n",
            "Requirement already satisfied: requests>=2.27.1 in /usr/local/lib/python3.10/dist-packages (from pycaret) (2.31.0)\n",
            "Requirement already satisfied: psutil>=5.9.0 in /usr/local/lib/python3.10/dist-packages (from pycaret) (5.9.5)\n",
            "Requirement already satisfied: markupsafe>=2.0.1 in /usr/local/lib/python3.10/dist-packages (from pycaret) (2.1.5)\n",
            "Requirement already satisfied: importlib-metadata>=4.12.0 in /usr/local/lib/python3.10/dist-packages (from pycaret) (7.1.0)\n",
            "Requirement already satisfied: nbformat>=4.2.0 in /usr/local/lib/python3.10/dist-packages (from pycaret) (5.10.4)\n",
            "Requirement already satisfied: cloudpickle in /usr/local/lib/python3.10/dist-packages (from pycaret) (2.2.1)\n",
            "Collecting deprecation>=2.1.0 (from pycaret)\n",
            "  Downloading deprecation-2.1.0-py2.py3-none-any.whl (11 kB)\n",
            "Collecting xxhash (from pycaret)\n",
            "  Downloading xxhash-3.4.1-cp310-cp310-manylinux_2_17_x86_64.manylinux2014_x86_64.whl (194 kB)\n",
            "\u001b[2K     \u001b[90m━━━━━━━━━━━━━━━━━━━━━━━━━━━━━━━━━━━━━━━━\u001b[0m \u001b[32m194.1/194.1 kB\u001b[0m \u001b[31m21.2 MB/s\u001b[0m eta \u001b[36m0:00:00\u001b[0m\n",
            "\u001b[?25hRequirement already satisfied: matplotlib<3.8.0 in /usr/local/lib/python3.10/dist-packages (from pycaret) (3.7.1)\n",
            "Collecting scikit-plot>=0.3.7 (from pycaret)\n",
            "  Downloading scikit_plot-0.3.7-py3-none-any.whl (33 kB)\n",
            "Requirement already satisfied: yellowbrick>=1.4 in /usr/local/lib/python3.10/dist-packages (from pycaret) (1.5)\n",
            "Requirement already satisfied: plotly>=5.14.0 in /usr/local/lib/python3.10/dist-packages (from pycaret) (5.15.0)\n",
            "Collecting kaleido>=0.2.1 (from pycaret)\n",
            "  Downloading kaleido-0.2.1-py2.py3-none-manylinux1_x86_64.whl (79.9 MB)\n",
            "\u001b[2K     \u001b[90m━━━━━━━━━━━━━━━━━━━━━━━━━━━━━━━━━━━━━━━━\u001b[0m \u001b[32m79.9/79.9 MB\u001b[0m \u001b[31m6.3 MB/s\u001b[0m eta \u001b[36m0:00:00\u001b[0m\n",
            "\u001b[?25hCollecting schemdraw==0.15 (from pycaret)\n",
            "  Downloading schemdraw-0.15-py3-none-any.whl (106 kB)\n",
            "\u001b[2K     \u001b[90m━━━━━━━━━━━━━━━━━━━━━━━━━━━━━━━━━━━━━━━━\u001b[0m \u001b[32m106.8/106.8 kB\u001b[0m \u001b[31m8.2 MB/s\u001b[0m eta \u001b[36m0:00:00\u001b[0m\n",
            "\u001b[?25hCollecting plotly-resampler>=0.8.3.1 (from pycaret)\n",
            "  Downloading plotly_resampler-0.10.0-py3-none-any.whl (80 kB)\n",
            "\u001b[2K     \u001b[90m━━━━━━━━━━━━━━━━━━━━━━━━━━━━━━━━━━━━━━━━\u001b[0m \u001b[32m80.7/80.7 kB\u001b[0m \u001b[31m8.9 MB/s\u001b[0m eta \u001b[36m0:00:00\u001b[0m\n",
            "\u001b[?25hRequirement already satisfied: statsmodels>=0.12.1 in /usr/local/lib/python3.10/dist-packages (from pycaret) (0.14.2)\n",
            "Collecting sktime==0.26.0 (from pycaret)\n",
            "  Downloading sktime-0.26.0-py3-none-any.whl (21.8 MB)\n",
            "\u001b[2K     \u001b[90m━━━━━━━━━━━━━━━━━━━━━━━━━━━━━━━━━━━━━━━━\u001b[0m \u001b[32m21.8/21.8 MB\u001b[0m \u001b[31m34.2 MB/s\u001b[0m eta \u001b[36m0:00:00\u001b[0m\n",
            "\u001b[?25hCollecting tbats>=1.1.3 (from pycaret)\n",
            "  Downloading tbats-1.1.3-py3-none-any.whl (44 kB)\n",
            "\u001b[2K     \u001b[90m━━━━━━━━━━━━━━━━━━━━━━━━━━━━━━━━━━━━━━━━\u001b[0m \u001b[32m44.0/44.0 kB\u001b[0m \u001b[31m3.6 MB/s\u001b[0m eta \u001b[36m0:00:00\u001b[0m\n",
            "\u001b[?25hCollecting pmdarima>=2.0.4 (from pycaret)\n",
            "  Downloading pmdarima-2.0.4-cp310-cp310-manylinux_2_17_x86_64.manylinux2014_x86_64.manylinux_2_28_x86_64.whl (2.1 MB)\n",
            "\u001b[2K     \u001b[90m━━━━━━━━━━━━━━━━━━━━━━━━━━━━━━━━━━━━━━━━\u001b[0m \u001b[32m2.1/2.1 MB\u001b[0m \u001b[31m51.4 MB/s\u001b[0m eta \u001b[36m0:00:00\u001b[0m\n",
            "\u001b[?25hCollecting wurlitzer (from pycaret)\n",
            "  Downloading wurlitzer-3.1.0-py3-none-any.whl (8.4 kB)\n",
            "Requirement already satisfied: packaging in /usr/local/lib/python3.10/dist-packages (from sktime==0.26.0->pycaret) (24.0)\n",
            "Collecting scikit-base<0.8.0 (from sktime==0.26.0->pycaret)\n",
            "  Downloading scikit_base-0.7.7-py3-none-any.whl (129 kB)\n",
            "\u001b[2K     \u001b[90m━━━━━━━━━━━━━━━━━━━━━━━━━━━━━━━━━━━━━━━━\u001b[0m \u001b[32m129.9/129.9 kB\u001b[0m \u001b[31m7.6 MB/s\u001b[0m eta \u001b[36m0:00:00\u001b[0m\n",
            "\u001b[?25hRequirement already satisfied: patsy>=0.5.1 in /usr/local/lib/python3.10/dist-packages (from category-encoders>=2.4.0->pycaret) (0.5.6)\n",
            "Requirement already satisfied: threadpoolctl>=2.0.0 in /usr/local/lib/python3.10/dist-packages (from imbalanced-learn>=0.12.0->pycaret) (3.5.0)\n",
            "Requirement already satisfied: zipp>=0.5 in /usr/local/lib/python3.10/dist-packages (from importlib-metadata>=4.12.0->pycaret) (3.18.1)\n",
            "Requirement already satisfied: setuptools>=18.5 in /usr/local/lib/python3.10/dist-packages (from ipython>=5.5.0->pycaret) (67.7.2)\n",
            "Collecting jedi>=0.16 (from ipython>=5.5.0->pycaret)\n",
            "  Downloading jedi-0.19.1-py2.py3-none-any.whl (1.6 MB)\n",
            "\u001b[2K     \u001b[90m━━━━━━━━━━━━━━━━━━━━━━━━━━━━━━━━━━━━━━━━\u001b[0m \u001b[32m1.6/1.6 MB\u001b[0m \u001b[31m48.4 MB/s\u001b[0m eta \u001b[36m0:00:00\u001b[0m\n",
            "\u001b[?25hRequirement already satisfied: decorator in /usr/local/lib/python3.10/dist-packages (from ipython>=5.5.0->pycaret) (4.4.2)\n",
            "Requirement already satisfied: pickleshare in /usr/local/lib/python3.10/dist-packages (from ipython>=5.5.0->pycaret) (0.7.5)\n",
            "Requirement already satisfied: traitlets>=4.2 in /usr/local/lib/python3.10/dist-packages (from ipython>=5.5.0->pycaret) (5.7.1)\n",
            "Requirement already satisfied: prompt-toolkit!=3.0.0,!=3.0.1,<3.1.0,>=2.0.0 in /usr/local/lib/python3.10/dist-packages (from ipython>=5.5.0->pycaret) (3.0.43)\n",
            "Requirement already satisfied: pygments in /usr/local/lib/python3.10/dist-packages (from ipython>=5.5.0->pycaret) (2.16.1)\n",
            "Requirement already satisfied: backcall in /usr/local/lib/python3.10/dist-packages (from ipython>=5.5.0->pycaret) (0.2.0)\n",
            "Requirement already satisfied: matplotlib-inline in /usr/local/lib/python3.10/dist-packages (from ipython>=5.5.0->pycaret) (0.1.7)\n",
            "Requirement already satisfied: pexpect>4.3 in /usr/local/lib/python3.10/dist-packages (from ipython>=5.5.0->pycaret) (4.9.0)\n",
            "Requirement already satisfied: ipykernel>=4.5.1 in /usr/local/lib/python3.10/dist-packages (from ipywidgets>=7.6.5->pycaret) (5.5.6)\n",
            "Requirement already satisfied: ipython-genutils~=0.2.0 in /usr/local/lib/python3.10/dist-packages (from ipywidgets>=7.6.5->pycaret) (0.2.0)\n",
            "Requirement already satisfied: widgetsnbextension~=3.6.0 in /usr/local/lib/python3.10/dist-packages (from ipywidgets>=7.6.5->pycaret) (3.6.6)\n",
            "Requirement already satisfied: jupyterlab-widgets>=1.0.0 in /usr/local/lib/python3.10/dist-packages (from ipywidgets>=7.6.5->pycaret) (3.0.10)\n",
            "Requirement already satisfied: contourpy>=1.0.1 in /usr/local/lib/python3.10/dist-packages (from matplotlib<3.8.0->pycaret) (1.2.1)\n",
            "Requirement already satisfied: cycler>=0.10 in /usr/local/lib/python3.10/dist-packages (from matplotlib<3.8.0->pycaret) (0.12.1)\n",
            "Requirement already satisfied: fonttools>=4.22.0 in /usr/local/lib/python3.10/dist-packages (from matplotlib<3.8.0->pycaret) (4.51.0)\n",
            "Requirement already satisfied: kiwisolver>=1.0.1 in /usr/local/lib/python3.10/dist-packages (from matplotlib<3.8.0->pycaret) (1.4.5)\n",
            "Requirement already satisfied: pillow>=6.2.0 in /usr/local/lib/python3.10/dist-packages (from matplotlib<3.8.0->pycaret) (9.4.0)\n",
            "Requirement already satisfied: pyparsing>=2.3.1 in /usr/local/lib/python3.10/dist-packages (from matplotlib<3.8.0->pycaret) (3.1.2)\n",
            "Requirement already satisfied: python-dateutil>=2.7 in /usr/local/lib/python3.10/dist-packages (from matplotlib<3.8.0->pycaret) (2.8.2)\n",
            "Requirement already satisfied: fastjsonschema>=2.15 in /usr/local/lib/python3.10/dist-packages (from nbformat>=4.2.0->pycaret) (2.19.1)\n",
            "Requirement already satisfied: jsonschema>=2.6 in /usr/local/lib/python3.10/dist-packages (from nbformat>=4.2.0->pycaret) (4.19.2)\n",
            "Requirement already satisfied: jupyter-core!=5.0.*,>=4.12 in /usr/local/lib/python3.10/dist-packages (from nbformat>=4.2.0->pycaret) (5.7.2)\n",
            "Requirement already satisfied: llvmlite<0.42,>=0.41.0dev0 in /usr/local/lib/python3.10/dist-packages (from numba>=0.55.0->pycaret) (0.41.1)\n",
            "Requirement already satisfied: pytz>=2020.1 in /usr/local/lib/python3.10/dist-packages (from pandas<2.2.0->pycaret) (2023.4)\n",
            "Requirement already satisfied: tzdata>=2022.1 in /usr/local/lib/python3.10/dist-packages (from pandas<2.2.0->pycaret) (2024.1)\n",
            "Requirement already satisfied: tenacity>=6.2.0 in /usr/local/lib/python3.10/dist-packages (from plotly>=5.14.0->pycaret) (8.2.3)\n",
            "Collecting dash>=2.9.0 (from plotly-resampler>=0.8.3.1->pycaret)\n",
            "  Downloading dash-2.17.0-py3-none-any.whl (7.5 MB)\n",
            "\u001b[2K     \u001b[90m━━━━━━━━━━━━━━━━━━━━━━━━━━━━━━━━━━━━━━━━\u001b[0m \u001b[32m7.5/7.5 MB\u001b[0m \u001b[31m67.2 MB/s\u001b[0m eta \u001b[36m0:00:00\u001b[0m\n",
            "\u001b[?25hCollecting orjson<4.0.0,>=3.8.0 (from plotly-resampler>=0.8.3.1->pycaret)\n",
            "  Downloading orjson-3.10.3-cp310-cp310-manylinux_2_17_x86_64.manylinux2014_x86_64.whl (142 kB)\n",
            "\u001b[2K     \u001b[90m━━━━━━━━━━━━━━━━━━━━━━━━━━━━━━━━━━━━━━━━\u001b[0m \u001b[32m142.5/142.5 kB\u001b[0m \u001b[31m13.3 MB/s\u001b[0m eta \u001b[36m0:00:00\u001b[0m\n",
            "\u001b[?25hCollecting tsdownsample>=0.1.3 (from plotly-resampler>=0.8.3.1->pycaret)\n",
            "  Downloading tsdownsample-0.1.3-cp310-cp310-manylinux_2_17_x86_64.manylinux2014_x86_64.whl (2.1 MB)\n",
            "\u001b[2K     \u001b[90m━━━━━━━━━━━━━━━━━━━━━━━━━━━━━━━━━━━━━━━━\u001b[0m \u001b[32m2.1/2.1 MB\u001b[0m \u001b[31m66.7 MB/s\u001b[0m eta \u001b[36m0:00:00\u001b[0m\n",
            "\u001b[?25hRequirement already satisfied: Cython!=0.29.18,!=0.29.31,>=0.29 in /usr/local/lib/python3.10/dist-packages (from pmdarima>=2.0.4->pycaret) (3.0.10)\n",
            "Requirement already satisfied: urllib3 in /usr/local/lib/python3.10/dist-packages (from pmdarima>=2.0.4->pycaret) (2.0.7)\n",
            "Requirement already satisfied: six in /usr/local/lib/python3.10/dist-packages (from pyod>=1.1.3->pycaret) (1.16.0)\n",
            "Requirement already satisfied: charset-normalizer<4,>=2 in /usr/local/lib/python3.10/dist-packages (from requests>=2.27.1->pycaret) (3.3.2)\n",
            "Requirement already satisfied: idna<4,>=2.5 in /usr/local/lib/python3.10/dist-packages (from requests>=2.27.1->pycaret) (3.7)\n",
            "Requirement already satisfied: certifi>=2017.4.17 in /usr/local/lib/python3.10/dist-packages (from requests>=2.27.1->pycaret) (2024.2.2)\n",
            "Requirement already satisfied: Flask<3.1,>=1.0.4 in /usr/local/lib/python3.10/dist-packages (from dash>=2.9.0->plotly-resampler>=0.8.3.1->pycaret) (2.2.5)\n",
            "Requirement already satisfied: Werkzeug<3.1 in /usr/local/lib/python3.10/dist-packages (from dash>=2.9.0->plotly-resampler>=0.8.3.1->pycaret) (3.0.2)\n",
            "Collecting dash-html-components==2.0.0 (from dash>=2.9.0->plotly-resampler>=0.8.3.1->pycaret)\n",
            "  Downloading dash_html_components-2.0.0-py3-none-any.whl (4.1 kB)\n",
            "Collecting dash-core-components==2.0.0 (from dash>=2.9.0->plotly-resampler>=0.8.3.1->pycaret)\n",
            "  Downloading dash_core_components-2.0.0-py3-none-any.whl (3.8 kB)\n",
            "Collecting dash-table==5.0.0 (from dash>=2.9.0->plotly-resampler>=0.8.3.1->pycaret)\n",
            "  Downloading dash_table-5.0.0-py3-none-any.whl (3.9 kB)\n",
            "Requirement already satisfied: typing-extensions>=4.1.1 in /usr/local/lib/python3.10/dist-packages (from dash>=2.9.0->plotly-resampler>=0.8.3.1->pycaret) (4.11.0)\n",
            "Collecting retrying (from dash>=2.9.0->plotly-resampler>=0.8.3.1->pycaret)\n",
            "  Downloading retrying-1.3.4-py3-none-any.whl (11 kB)\n",
            "Requirement already satisfied: nest-asyncio in /usr/local/lib/python3.10/dist-packages (from dash>=2.9.0->plotly-resampler>=0.8.3.1->pycaret) (1.6.0)\n",
            "Requirement already satisfied: jupyter-client in /usr/local/lib/python3.10/dist-packages (from ipykernel>=4.5.1->ipywidgets>=7.6.5->pycaret) (6.1.12)\n",
            "Requirement already satisfied: tornado>=4.2 in /usr/local/lib/python3.10/dist-packages (from ipykernel>=4.5.1->ipywidgets>=7.6.5->pycaret) (6.3.3)\n",
            "Requirement already satisfied: parso<0.9.0,>=0.8.3 in /usr/local/lib/python3.10/dist-packages (from jedi>=0.16->ipython>=5.5.0->pycaret) (0.8.4)\n",
            "Requirement already satisfied: attrs>=22.2.0 in /usr/local/lib/python3.10/dist-packages (from jsonschema>=2.6->nbformat>=4.2.0->pycaret) (23.2.0)\n",
            "Requirement already satisfied: jsonschema-specifications>=2023.03.6 in /usr/local/lib/python3.10/dist-packages (from jsonschema>=2.6->nbformat>=4.2.0->pycaret) (2023.12.1)\n",
            "Requirement already satisfied: referencing>=0.28.4 in /usr/local/lib/python3.10/dist-packages (from jsonschema>=2.6->nbformat>=4.2.0->pycaret) (0.35.0)\n",
            "Requirement already satisfied: rpds-py>=0.7.1 in /usr/local/lib/python3.10/dist-packages (from jsonschema>=2.6->nbformat>=4.2.0->pycaret) (0.18.0)\n",
            "Requirement already satisfied: platformdirs>=2.5 in /usr/local/lib/python3.10/dist-packages (from jupyter-core!=5.0.*,>=4.12->nbformat>=4.2.0->pycaret) (4.2.1)\n",
            "Requirement already satisfied: ptyprocess>=0.5 in /usr/local/lib/python3.10/dist-packages (from pexpect>4.3->ipython>=5.5.0->pycaret) (0.7.0)\n",
            "Requirement already satisfied: wcwidth in /usr/local/lib/python3.10/dist-packages (from prompt-toolkit!=3.0.0,!=3.0.1,<3.1.0,>=2.0.0->ipython>=5.5.0->pycaret) (0.2.13)\n",
            "Requirement already satisfied: notebook>=4.4.1 in /usr/local/lib/python3.10/dist-packages (from widgetsnbextension~=3.6.0->ipywidgets>=7.6.5->pycaret) (6.5.5)\n",
            "Requirement already satisfied: itsdangerous>=2.0 in /usr/local/lib/python3.10/dist-packages (from Flask<3.1,>=1.0.4->dash>=2.9.0->plotly-resampler>=0.8.3.1->pycaret) (2.2.0)\n",
            "Requirement already satisfied: click>=8.0 in /usr/local/lib/python3.10/dist-packages (from Flask<3.1,>=1.0.4->dash>=2.9.0->plotly-resampler>=0.8.3.1->pycaret) (8.1.7)\n",
            "Requirement already satisfied: pyzmq<25,>=17 in /usr/local/lib/python3.10/dist-packages (from notebook>=4.4.1->widgetsnbextension~=3.6.0->ipywidgets>=7.6.5->pycaret) (24.0.1)\n",
            "Requirement already satisfied: argon2-cffi in /usr/local/lib/python3.10/dist-packages (from notebook>=4.4.1->widgetsnbextension~=3.6.0->ipywidgets>=7.6.5->pycaret) (23.1.0)\n",
            "Requirement already satisfied: nbconvert>=5 in /usr/local/lib/python3.10/dist-packages (from notebook>=4.4.1->widgetsnbextension~=3.6.0->ipywidgets>=7.6.5->pycaret) (6.5.4)\n",
            "Requirement already satisfied: Send2Trash>=1.8.0 in /usr/local/lib/python3.10/dist-packages (from notebook>=4.4.1->widgetsnbextension~=3.6.0->ipywidgets>=7.6.5->pycaret) (1.8.3)\n",
            "Requirement already satisfied: terminado>=0.8.3 in /usr/local/lib/python3.10/dist-packages (from notebook>=4.4.1->widgetsnbextension~=3.6.0->ipywidgets>=7.6.5->pycaret) (0.18.1)\n",
            "Requirement already satisfied: prometheus-client in /usr/local/lib/python3.10/dist-packages (from notebook>=4.4.1->widgetsnbextension~=3.6.0->ipywidgets>=7.6.5->pycaret) (0.20.0)\n",
            "Requirement already satisfied: nbclassic>=0.4.7 in /usr/local/lib/python3.10/dist-packages (from notebook>=4.4.1->widgetsnbextension~=3.6.0->ipywidgets>=7.6.5->pycaret) (1.0.0)\n",
            "Requirement already satisfied: jupyter-server>=1.8 in /usr/local/lib/python3.10/dist-packages (from nbclassic>=0.4.7->notebook>=4.4.1->widgetsnbextension~=3.6.0->ipywidgets>=7.6.5->pycaret) (1.24.0)\n",
            "Requirement already satisfied: notebook-shim>=0.2.3 in /usr/local/lib/python3.10/dist-packages (from nbclassic>=0.4.7->notebook>=4.4.1->widgetsnbextension~=3.6.0->ipywidgets>=7.6.5->pycaret) (0.2.4)\n",
            "Requirement already satisfied: lxml in /usr/local/lib/python3.10/dist-packages (from nbconvert>=5->notebook>=4.4.1->widgetsnbextension~=3.6.0->ipywidgets>=7.6.5->pycaret) (4.9.4)\n",
            "Requirement already satisfied: beautifulsoup4 in /usr/local/lib/python3.10/dist-packages (from nbconvert>=5->notebook>=4.4.1->widgetsnbextension~=3.6.0->ipywidgets>=7.6.5->pycaret) (4.12.3)\n",
            "Requirement already satisfied: bleach in /usr/local/lib/python3.10/dist-packages (from nbconvert>=5->notebook>=4.4.1->widgetsnbextension~=3.6.0->ipywidgets>=7.6.5->pycaret) (6.1.0)\n",
            "Requirement already satisfied: defusedxml in /usr/local/lib/python3.10/dist-packages (from nbconvert>=5->notebook>=4.4.1->widgetsnbextension~=3.6.0->ipywidgets>=7.6.5->pycaret) (0.7.1)\n",
            "Requirement already satisfied: entrypoints>=0.2.2 in /usr/local/lib/python3.10/dist-packages (from nbconvert>=5->notebook>=4.4.1->widgetsnbextension~=3.6.0->ipywidgets>=7.6.5->pycaret) (0.4)\n",
            "Requirement already satisfied: jupyterlab-pygments in /usr/local/lib/python3.10/dist-packages (from nbconvert>=5->notebook>=4.4.1->widgetsnbextension~=3.6.0->ipywidgets>=7.6.5->pycaret) (0.3.0)\n",
            "Requirement already satisfied: mistune<2,>=0.8.1 in /usr/local/lib/python3.10/dist-packages (from nbconvert>=5->notebook>=4.4.1->widgetsnbextension~=3.6.0->ipywidgets>=7.6.5->pycaret) (0.8.4)\n",
            "Requirement already satisfied: nbclient>=0.5.0 in /usr/local/lib/python3.10/dist-packages (from nbconvert>=5->notebook>=4.4.1->widgetsnbextension~=3.6.0->ipywidgets>=7.6.5->pycaret) (0.10.0)\n",
            "Requirement already satisfied: pandocfilters>=1.4.1 in /usr/local/lib/python3.10/dist-packages (from nbconvert>=5->notebook>=4.4.1->widgetsnbextension~=3.6.0->ipywidgets>=7.6.5->pycaret) (1.5.1)\n",
            "Requirement already satisfied: tinycss2 in /usr/local/lib/python3.10/dist-packages (from nbconvert>=5->notebook>=4.4.1->widgetsnbextension~=3.6.0->ipywidgets>=7.6.5->pycaret) (1.3.0)\n",
            "Requirement already satisfied: argon2-cffi-bindings in /usr/local/lib/python3.10/dist-packages (from argon2-cffi->notebook>=4.4.1->widgetsnbextension~=3.6.0->ipywidgets>=7.6.5->pycaret) (21.2.0)\n",
            "Requirement already satisfied: anyio<4,>=3.1.0 in /usr/local/lib/python3.10/dist-packages (from jupyter-server>=1.8->nbclassic>=0.4.7->notebook>=4.4.1->widgetsnbextension~=3.6.0->ipywidgets>=7.6.5->pycaret) (3.7.1)\n",
            "Requirement already satisfied: websocket-client in /usr/local/lib/python3.10/dist-packages (from jupyter-server>=1.8->nbclassic>=0.4.7->notebook>=4.4.1->widgetsnbextension~=3.6.0->ipywidgets>=7.6.5->pycaret) (1.8.0)\n",
            "Requirement already satisfied: cffi>=1.0.1 in /usr/local/lib/python3.10/dist-packages (from argon2-cffi-bindings->argon2-cffi->notebook>=4.4.1->widgetsnbextension~=3.6.0->ipywidgets>=7.6.5->pycaret) (1.16.0)\n",
            "Requirement already satisfied: soupsieve>1.2 in /usr/local/lib/python3.10/dist-packages (from beautifulsoup4->nbconvert>=5->notebook>=4.4.1->widgetsnbextension~=3.6.0->ipywidgets>=7.6.5->pycaret) (2.5)\n",
            "Requirement already satisfied: webencodings in /usr/local/lib/python3.10/dist-packages (from bleach->nbconvert>=5->notebook>=4.4.1->widgetsnbextension~=3.6.0->ipywidgets>=7.6.5->pycaret) (0.5.1)\n",
            "Requirement already satisfied: sniffio>=1.1 in /usr/local/lib/python3.10/dist-packages (from anyio<4,>=3.1.0->jupyter-server>=1.8->nbclassic>=0.4.7->notebook>=4.4.1->widgetsnbextension~=3.6.0->ipywidgets>=7.6.5->pycaret) (1.3.1)\n",
            "Requirement already satisfied: exceptiongroup in /usr/local/lib/python3.10/dist-packages (from anyio<4,>=3.1.0->jupyter-server>=1.8->nbclassic>=0.4.7->notebook>=4.4.1->widgetsnbextension~=3.6.0->ipywidgets>=7.6.5->pycaret) (1.2.1)\n",
            "Requirement already satisfied: pycparser in /usr/local/lib/python3.10/dist-packages (from cffi>=1.0.1->argon2-cffi-bindings->argon2-cffi->notebook>=4.4.1->widgetsnbextension~=3.6.0->ipywidgets>=7.6.5->pycaret) (2.22)\n",
            "Building wheels for collected packages: pyod\n",
            "  Building wheel for pyod (setup.py) ... \u001b[?25l\u001b[?25hdone\n",
            "  Created wheel for pyod: filename=pyod-1.1.3-py3-none-any.whl size=190250 sha256=ffeb0afb08ec33753adce90f7ac49c0c31921762144a163bc583ecce7bd2ad43\n",
            "  Stored in directory: /root/.cache/pip/wheels/05/f8/db/124d43bec122d6ec0ab3713fadfe25ebed8af52ec561682b4e\n",
            "Successfully built pyod\n",
            "Installing collected packages: kaleido, dash-table, dash-html-components, dash-core-components, xxhash, wurlitzer, tsdownsample, scikit-base, schemdraw, retrying, orjson, joblib, jedi, deprecation, scikit-learn, sktime, scikit-plot, pyod, imbalanced-learn, dash, pmdarima, plotly-resampler, category-encoders, tbats, pycaret\n",
            "  Attempting uninstall: joblib\n",
            "    Found existing installation: joblib 1.4.0\n",
            "    Uninstalling joblib-1.4.0:\n",
            "      Successfully uninstalled joblib-1.4.0\n",
            "  Attempting uninstall: scikit-learn\n",
            "    Found existing installation: scikit-learn 1.2.2\n",
            "    Uninstalling scikit-learn-1.2.2:\n",
            "      Successfully uninstalled scikit-learn-1.2.2\n",
            "  Attempting uninstall: imbalanced-learn\n",
            "    Found existing installation: imbalanced-learn 0.10.1\n",
            "    Uninstalling imbalanced-learn-0.10.1:\n",
            "      Successfully uninstalled imbalanced-learn-0.10.1\n",
            "Successfully installed category-encoders-2.6.3 dash-2.17.0 dash-core-components-2.0.0 dash-html-components-2.0.0 dash-table-5.0.0 deprecation-2.1.0 imbalanced-learn-0.12.2 jedi-0.19.1 joblib-1.3.2 kaleido-0.2.1 orjson-3.10.3 plotly-resampler-0.10.0 pmdarima-2.0.4 pycaret-3.3.2 pyod-1.1.3 retrying-1.3.4 schemdraw-0.15 scikit-base-0.7.7 scikit-learn-1.4.2 scikit-plot-0.3.7 sktime-0.26.0 tbats-1.1.3 tsdownsample-0.1.3 wurlitzer-3.1.0 xxhash-3.4.1\n"
          ]
        }
      ],
      "source": [
        "pip install pycaret\n"
      ]
    },
    {
      "cell_type": "code",
      "execution_count": 2,
      "metadata": {
        "id": "6B1N0H7imuUJ"
      },
      "outputs": [],
      "source": [
        "import pandas as pd"
      ]
    },
    {
      "cell_type": "code",
      "source": [
        "import json"
      ],
      "metadata": {
        "id": "xczxak6anlK4"
      },
      "execution_count": 3,
      "outputs": []
    },
    {
      "cell_type": "code",
      "source": [
        "from pycaret.classification import *"
      ],
      "metadata": {
        "id": "uaDhY93ExAU2"
      },
      "execution_count": 4,
      "outputs": []
    },
    {
      "cell_type": "code",
      "source": [
        "# Leer el dataset que ya es un DataFrame de pandas\n",
        "data_df = pd.read_csv('data-df3.csv', encoding='latin1')\n"
      ],
      "metadata": {
        "id": "NwSNDvYUHpzY"
      },
      "execution_count": 5,
      "outputs": []
    },
    {
      "cell_type": "code",
      "source": [
        "print(data_df)"
      ],
      "metadata": {
        "colab": {
          "base_uri": "https://localhost:8080/"
        },
        "id": "Eh3VxVkXHxCj",
        "outputId": "e1c772a4-8a56-47ce-9b55-989a9211d099"
      },
      "execution_count": null,
      "outputs": [
        {
          "output_type": "stream",
          "name": "stdout",
          "text": [
            "                                                    apto  \\\n",
            "0      Good USA company that stands behind their prod...   \n",
            "1      This is a high quality 8 ply hose. I have had ...   \n",
            "2      It's probably one of the best hoses I've ever ...   \n",
            "3      I probably should have bought something a bit ...   \n",
            "4      I bought three of these 5/8-inch Flexogen hose...   \n",
            "...                                                  ...   \n",
            "14504                                                NaN   \n",
            "14505                                                NaN   \n",
            "14506                                                NaN   \n",
            "14507                                                NaN   \n",
            "14508                                                NaN   \n",
            "\n",
            "                                                 no_apto  \n",
            "0           Warning: penny boards will make you a faggot  \n",
            "1                                             Fuck dykes  \n",
            "2      @sizzurp__ @ILIKECATS74 @yoPapi_chulo @brandon...  \n",
            "3      \"@jayswaggkillah: \"@JacklynAnnn: @jayswaggkill...  \n",
            "4      @Zhugstubble You heard me bitch but any way I'...  \n",
            "...                                                  ...  \n",
            "14504  I'm sorry. Did I offend your white supremacist...  \n",
            "14505  @tradethecycles Caucasian euro aryan whatever....  \n",
            "14506  @yadavakhilesh sir a patient named aryan khan ...  \n",
            "14507  @Iamshivachari  Happy birthday bro _Ì«ï¿½ï¿½_ ...  \n",
            "14508  @Hajrahkiayni Aryan Kapoor is such a cute name...  \n",
            "\n",
            "[14509 rows x 2 columns]\n"
          ]
        }
      ]
    },
    {
      "cell_type": "code",
      "source": [
        "# Tratar los valores faltantes\n",
        "data_df.fillna('', inplace=True)  # Reemplazar NaN con cadenas vacías"
      ],
      "metadata": {
        "id": "h83gM6MrsvIo"
      },
      "execution_count": 6,
      "outputs": []
    },
    {
      "cell_type": "code",
      "source": [
        "# Eliminar duplicados\n",
        "data_df.drop_duplicates(inplace=True)"
      ],
      "metadata": {
        "id": "UR-ADrYos3sA"
      },
      "execution_count": 7,
      "outputs": []
    },
    {
      "cell_type": "code",
      "source": [
        "# Normalizar los nombres de las columnas\n",
        "data_df.columns = data_df.columns.str.strip().str.lower().str.replace(' ', '_')  # Eliminar espacios y convertir a minúsculas\n"
      ],
      "metadata": {
        "id": "TmPZanxVs8VG"
      },
      "execution_count": 8,
      "outputs": []
    },
    {
      "cell_type": "code",
      "source": [
        "print(type(data_df))"
      ],
      "metadata": {
        "colab": {
          "base_uri": "https://localhost:8080/"
        },
        "id": "6P9m5u8xIIto",
        "outputId": "6fa76c4a-2d9c-4cab-81b6-c5648e4375fd"
      },
      "execution_count": 9,
      "outputs": [
        {
          "output_type": "stream",
          "name": "stdout",
          "text": [
            "<class 'pandas.core.frame.DataFrame'>\n"
          ]
        }
      ]
    },
    {
      "cell_type": "code",
      "source": [
        "from pycaret.classification import *\n"
      ],
      "metadata": {
        "id": "MehegzoDINQb"
      },
      "execution_count": 10,
      "outputs": []
    },
    {
      "cell_type": "code",
      "source": [
        "# Crear una nueva columna 'sentimiento' basada en las columnas 'apto' y 'no_apto'\n",
        "data_df['sentimiento'] = data_df[['apto', 'no_apto']].apply(lambda x: 'apto' if x['apto'] == 1 else 'no_apto', axis=1)\n"
      ],
      "metadata": {
        "id": "ZSleUo7aIPIS"
      },
      "execution_count": 11,
      "outputs": []
    },
    {
      "cell_type": "code",
      "source": [
        "# Visualizar el DataFrame con la nueva columna 'sentimiento'\n",
        "print(data_df.head())"
      ],
      "metadata": {
        "colab": {
          "base_uri": "https://localhost:8080/"
        },
        "id": "Bm0Qq-ZOI_rI",
        "outputId": "37707d04-5385-4c97-e7ba-0f7fb98efb73"
      },
      "execution_count": 12,
      "outputs": [
        {
          "output_type": "stream",
          "name": "stdout",
          "text": [
            "                                                apto  \\\n",
            "0  Good USA company that stands behind their prod...   \n",
            "1  This is a high quality 8 ply hose. I have had ...   \n",
            "2  It's probably one of the best hoses I've ever ...   \n",
            "3  I probably should have bought something a bit ...   \n",
            "4  I bought three of these 5/8-inch Flexogen hose...   \n",
            "\n",
            "                                             no_apto sentimiento  \n",
            "0       Warning: penny boards will make you a faggot     no_apto  \n",
            "1                                         Fuck dykes     no_apto  \n",
            "2  @sizzurp__ @ILIKECATS74 @yoPapi_chulo @brandon...     no_apto  \n",
            "3  \"@jayswaggkillah: \"@JacklynAnnn: @jayswaggkill...     no_apto  \n",
            "4  @Zhugstubble You heard me bitch but any way I'...     no_apto  \n"
          ]
        }
      ]
    },
    {
      "cell_type": "code",
      "source": [
        "# Inicializar PyCaret con tu DataFrame data_df y la columna objetivo 'sentimiento'\n",
        "exp_sentimiento = setup(data=data_df, target='sentimiento')"
      ],
      "metadata": {
        "colab": {
          "base_uri": "https://localhost:8080/",
          "height": 739
        },
        "id": "6wSaMqSjJD3E",
        "outputId": "59f76d5f-f56a-4913-eba3-fe96b9894b71"
      },
      "execution_count": 13,
      "outputs": [
        {
          "output_type": "display_data",
          "data": {
            "text/plain": [
              "<pandas.io.formats.style.Styler at 0x7d3050a719c0>"
            ],
            "text/html": [
              "<style type=\"text/css\">\n",
              "#T_c08a9_row9_col1 {\n",
              "  background-color: lightgreen;\n",
              "}\n",
              "</style>\n",
              "<table id=\"T_c08a9\" class=\"dataframe\">\n",
              "  <thead>\n",
              "    <tr>\n",
              "      <th class=\"blank level0\" >&nbsp;</th>\n",
              "      <th id=\"T_c08a9_level0_col0\" class=\"col_heading level0 col0\" >Description</th>\n",
              "      <th id=\"T_c08a9_level0_col1\" class=\"col_heading level0 col1\" >Value</th>\n",
              "    </tr>\n",
              "  </thead>\n",
              "  <tbody>\n",
              "    <tr>\n",
              "      <th id=\"T_c08a9_level0_row0\" class=\"row_heading level0 row0\" >0</th>\n",
              "      <td id=\"T_c08a9_row0_col0\" class=\"data row0 col0\" >Session id</td>\n",
              "      <td id=\"T_c08a9_row0_col1\" class=\"data row0 col1\" >1228</td>\n",
              "    </tr>\n",
              "    <tr>\n",
              "      <th id=\"T_c08a9_level0_row1\" class=\"row_heading level0 row1\" >1</th>\n",
              "      <td id=\"T_c08a9_row1_col0\" class=\"data row1 col0\" >Target</td>\n",
              "      <td id=\"T_c08a9_row1_col1\" class=\"data row1 col1\" >sentimiento</td>\n",
              "    </tr>\n",
              "    <tr>\n",
              "      <th id=\"T_c08a9_level0_row2\" class=\"row_heading level0 row2\" >2</th>\n",
              "      <td id=\"T_c08a9_row2_col0\" class=\"data row2 col0\" >Target type</td>\n",
              "      <td id=\"T_c08a9_row2_col1\" class=\"data row2 col1\" >Multiclass</td>\n",
              "    </tr>\n",
              "    <tr>\n",
              "      <th id=\"T_c08a9_level0_row3\" class=\"row_heading level0 row3\" >3</th>\n",
              "      <td id=\"T_c08a9_row3_col0\" class=\"data row3 col0\" >Target mapping</td>\n",
              "      <td id=\"T_c08a9_row3_col1\" class=\"data row3 col1\" >no_apto: 0</td>\n",
              "    </tr>\n",
              "    <tr>\n",
              "      <th id=\"T_c08a9_level0_row4\" class=\"row_heading level0 row4\" >4</th>\n",
              "      <td id=\"T_c08a9_row4_col0\" class=\"data row4 col0\" >Original data shape</td>\n",
              "      <td id=\"T_c08a9_row4_col1\" class=\"data row4 col1\" >(14397, 3)</td>\n",
              "    </tr>\n",
              "    <tr>\n",
              "      <th id=\"T_c08a9_level0_row5\" class=\"row_heading level0 row5\" >5</th>\n",
              "      <td id=\"T_c08a9_row5_col0\" class=\"data row5 col0\" >Transformed data shape</td>\n",
              "      <td id=\"T_c08a9_row5_col1\" class=\"data row5 col1\" >(14397, 3)</td>\n",
              "    </tr>\n",
              "    <tr>\n",
              "      <th id=\"T_c08a9_level0_row6\" class=\"row_heading level0 row6\" >6</th>\n",
              "      <td id=\"T_c08a9_row6_col0\" class=\"data row6 col0\" >Transformed train set shape</td>\n",
              "      <td id=\"T_c08a9_row6_col1\" class=\"data row6 col1\" >(10077, 3)</td>\n",
              "    </tr>\n",
              "    <tr>\n",
              "      <th id=\"T_c08a9_level0_row7\" class=\"row_heading level0 row7\" >7</th>\n",
              "      <td id=\"T_c08a9_row7_col0\" class=\"data row7 col0\" >Transformed test set shape</td>\n",
              "      <td id=\"T_c08a9_row7_col1\" class=\"data row7 col1\" >(4320, 3)</td>\n",
              "    </tr>\n",
              "    <tr>\n",
              "      <th id=\"T_c08a9_level0_row8\" class=\"row_heading level0 row8\" >8</th>\n",
              "      <td id=\"T_c08a9_row8_col0\" class=\"data row8 col0\" >Categorical features</td>\n",
              "      <td id=\"T_c08a9_row8_col1\" class=\"data row8 col1\" >2</td>\n",
              "    </tr>\n",
              "    <tr>\n",
              "      <th id=\"T_c08a9_level0_row9\" class=\"row_heading level0 row9\" >9</th>\n",
              "      <td id=\"T_c08a9_row9_col0\" class=\"data row9 col0\" >Preprocess</td>\n",
              "      <td id=\"T_c08a9_row9_col1\" class=\"data row9 col1\" >True</td>\n",
              "    </tr>\n",
              "    <tr>\n",
              "      <th id=\"T_c08a9_level0_row10\" class=\"row_heading level0 row10\" >10</th>\n",
              "      <td id=\"T_c08a9_row10_col0\" class=\"data row10 col0\" >Imputation type</td>\n",
              "      <td id=\"T_c08a9_row10_col1\" class=\"data row10 col1\" >simple</td>\n",
              "    </tr>\n",
              "    <tr>\n",
              "      <th id=\"T_c08a9_level0_row11\" class=\"row_heading level0 row11\" >11</th>\n",
              "      <td id=\"T_c08a9_row11_col0\" class=\"data row11 col0\" >Numeric imputation</td>\n",
              "      <td id=\"T_c08a9_row11_col1\" class=\"data row11 col1\" >mean</td>\n",
              "    </tr>\n",
              "    <tr>\n",
              "      <th id=\"T_c08a9_level0_row12\" class=\"row_heading level0 row12\" >12</th>\n",
              "      <td id=\"T_c08a9_row12_col0\" class=\"data row12 col0\" >Categorical imputation</td>\n",
              "      <td id=\"T_c08a9_row12_col1\" class=\"data row12 col1\" >mode</td>\n",
              "    </tr>\n",
              "    <tr>\n",
              "      <th id=\"T_c08a9_level0_row13\" class=\"row_heading level0 row13\" >13</th>\n",
              "      <td id=\"T_c08a9_row13_col0\" class=\"data row13 col0\" >Maximum one-hot encoding</td>\n",
              "      <td id=\"T_c08a9_row13_col1\" class=\"data row13 col1\" >25</td>\n",
              "    </tr>\n",
              "    <tr>\n",
              "      <th id=\"T_c08a9_level0_row14\" class=\"row_heading level0 row14\" >14</th>\n",
              "      <td id=\"T_c08a9_row14_col0\" class=\"data row14 col0\" >Encoding method</td>\n",
              "      <td id=\"T_c08a9_row14_col1\" class=\"data row14 col1\" >None</td>\n",
              "    </tr>\n",
              "    <tr>\n",
              "      <th id=\"T_c08a9_level0_row15\" class=\"row_heading level0 row15\" >15</th>\n",
              "      <td id=\"T_c08a9_row15_col0\" class=\"data row15 col0\" >Fold Generator</td>\n",
              "      <td id=\"T_c08a9_row15_col1\" class=\"data row15 col1\" >StratifiedKFold</td>\n",
              "    </tr>\n",
              "    <tr>\n",
              "      <th id=\"T_c08a9_level0_row16\" class=\"row_heading level0 row16\" >16</th>\n",
              "      <td id=\"T_c08a9_row16_col0\" class=\"data row16 col0\" >Fold Number</td>\n",
              "      <td id=\"T_c08a9_row16_col1\" class=\"data row16 col1\" >10</td>\n",
              "    </tr>\n",
              "    <tr>\n",
              "      <th id=\"T_c08a9_level0_row17\" class=\"row_heading level0 row17\" >17</th>\n",
              "      <td id=\"T_c08a9_row17_col0\" class=\"data row17 col0\" >CPU Jobs</td>\n",
              "      <td id=\"T_c08a9_row17_col1\" class=\"data row17 col1\" >-1</td>\n",
              "    </tr>\n",
              "    <tr>\n",
              "      <th id=\"T_c08a9_level0_row18\" class=\"row_heading level0 row18\" >18</th>\n",
              "      <td id=\"T_c08a9_row18_col0\" class=\"data row18 col0\" >Use GPU</td>\n",
              "      <td id=\"T_c08a9_row18_col1\" class=\"data row18 col1\" >False</td>\n",
              "    </tr>\n",
              "    <tr>\n",
              "      <th id=\"T_c08a9_level0_row19\" class=\"row_heading level0 row19\" >19</th>\n",
              "      <td id=\"T_c08a9_row19_col0\" class=\"data row19 col0\" >Log Experiment</td>\n",
              "      <td id=\"T_c08a9_row19_col1\" class=\"data row19 col1\" >False</td>\n",
              "    </tr>\n",
              "    <tr>\n",
              "      <th id=\"T_c08a9_level0_row20\" class=\"row_heading level0 row20\" >20</th>\n",
              "      <td id=\"T_c08a9_row20_col0\" class=\"data row20 col0\" >Experiment Name</td>\n",
              "      <td id=\"T_c08a9_row20_col1\" class=\"data row20 col1\" >clf-default-name</td>\n",
              "    </tr>\n",
              "    <tr>\n",
              "      <th id=\"T_c08a9_level0_row21\" class=\"row_heading level0 row21\" >21</th>\n",
              "      <td id=\"T_c08a9_row21_col0\" class=\"data row21 col0\" >USI</td>\n",
              "      <td id=\"T_c08a9_row21_col1\" class=\"data row21 col1\" >3dd8</td>\n",
              "    </tr>\n",
              "  </tbody>\n",
              "</table>\n"
            ]
          },
          "metadata": {}
        }
      ]
    },
    {
      "cell_type": "code",
      "source": [
        "# Comparar modelos\n",
        "best_model = compare_models()"
      ],
      "metadata": {
        "colab": {
          "base_uri": "https://localhost:8080/",
          "height": 713,
          "referenced_widgets": [
            "72fb8c8f25ce44d18bac33f66f9a7f15",
            "bdc1b7c4e9044e568501c0a03a178dce",
            "0a148f0f0ffb4d8eb92e14ea1bf06708",
            "84de1d35c0a4497e8aab8b0027fd055e",
            "5399439b8a334fcebb3d795f8e538fa8",
            "8a38f703c9c0452b9d9131e0f5e4d2e3",
            "375be8e3ab72406a851dd2d81ebfa98d",
            "49e053d997bf403e9a0a6cb8d8095559",
            "c4fb5b34a9c44220b12609a11a90c1f4",
            "43cb15ed98614c0ab3d985e9b748ad66",
            "f75b5506f4e24b14b0084f733f560d1e"
          ]
        },
        "id": "YtKyL1NhJJ1s",
        "outputId": "48c075d8-1c9b-4c84-81d5-cf72a2e275e7"
      },
      "execution_count": 14,
      "outputs": [
        {
          "output_type": "display_data",
          "data": {
            "text/plain": [
              "<IPython.core.display.HTML object>"
            ],
            "text/html": []
          },
          "metadata": {}
        },
        {
          "output_type": "display_data",
          "data": {
            "text/plain": [
              "<pandas.io.formats.style.Styler at 0x7d30509d6ef0>"
            ],
            "text/html": [
              "<style type=\"text/css\">\n",
              "#T_82cea th {\n",
              "  text-align: left;\n",
              "}\n",
              "#T_82cea_row0_col0, #T_82cea_row0_col6, #T_82cea_row1_col0, #T_82cea_row1_col6, #T_82cea_row2_col0, #T_82cea_row2_col6, #T_82cea_row3_col0, #T_82cea_row3_col6, #T_82cea_row4_col0, #T_82cea_row4_col6, #T_82cea_row5_col0, #T_82cea_row5_col6, #T_82cea_row6_col0, #T_82cea_row6_col6, #T_82cea_row7_col0, #T_82cea_row7_col6, #T_82cea_row8_col0, #T_82cea_row8_col6, #T_82cea_row9_col0, #T_82cea_row9_col6 {\n",
              "  text-align: left;\n",
              "}\n",
              "#T_82cea_row0_col1, #T_82cea_row0_col2, #T_82cea_row0_col3, #T_82cea_row0_col4, #T_82cea_row0_col5, #T_82cea_row0_col7, #T_82cea_row1_col1, #T_82cea_row1_col2, #T_82cea_row1_col3, #T_82cea_row1_col4, #T_82cea_row1_col5, #T_82cea_row1_col7, #T_82cea_row2_col1, #T_82cea_row2_col2, #T_82cea_row2_col3, #T_82cea_row2_col4, #T_82cea_row2_col5, #T_82cea_row2_col7, #T_82cea_row3_col1, #T_82cea_row3_col2, #T_82cea_row3_col3, #T_82cea_row3_col4, #T_82cea_row3_col5, #T_82cea_row3_col7, #T_82cea_row4_col1, #T_82cea_row4_col2, #T_82cea_row4_col3, #T_82cea_row4_col4, #T_82cea_row4_col5, #T_82cea_row4_col7, #T_82cea_row5_col1, #T_82cea_row5_col2, #T_82cea_row5_col3, #T_82cea_row5_col4, #T_82cea_row5_col5, #T_82cea_row5_col7, #T_82cea_row6_col1, #T_82cea_row6_col2, #T_82cea_row6_col3, #T_82cea_row6_col4, #T_82cea_row6_col5, #T_82cea_row6_col7, #T_82cea_row7_col1, #T_82cea_row7_col2, #T_82cea_row7_col3, #T_82cea_row7_col4, #T_82cea_row7_col5, #T_82cea_row7_col7, #T_82cea_row8_col1, #T_82cea_row8_col2, #T_82cea_row8_col3, #T_82cea_row8_col4, #T_82cea_row8_col5, #T_82cea_row8_col7, #T_82cea_row9_col1, #T_82cea_row9_col2, #T_82cea_row9_col3, #T_82cea_row9_col4, #T_82cea_row9_col5, #T_82cea_row9_col7 {\n",
              "  text-align: left;\n",
              "  background-color: yellow;\n",
              "}\n",
              "#T_82cea_row0_col8, #T_82cea_row1_col8, #T_82cea_row3_col8, #T_82cea_row4_col8, #T_82cea_row5_col8, #T_82cea_row6_col8, #T_82cea_row7_col8, #T_82cea_row8_col8, #T_82cea_row9_col8 {\n",
              "  text-align: left;\n",
              "  background-color: lightgrey;\n",
              "}\n",
              "#T_82cea_row2_col8 {\n",
              "  text-align: left;\n",
              "  background-color: yellow;\n",
              "  background-color: lightgrey;\n",
              "}\n",
              "</style>\n",
              "<table id=\"T_82cea\" class=\"dataframe\">\n",
              "  <thead>\n",
              "    <tr>\n",
              "      <th class=\"blank level0\" >&nbsp;</th>\n",
              "      <th id=\"T_82cea_level0_col0\" class=\"col_heading level0 col0\" >Model</th>\n",
              "      <th id=\"T_82cea_level0_col1\" class=\"col_heading level0 col1\" >Accuracy</th>\n",
              "      <th id=\"T_82cea_level0_col2\" class=\"col_heading level0 col2\" >AUC</th>\n",
              "      <th id=\"T_82cea_level0_col3\" class=\"col_heading level0 col3\" >Recall</th>\n",
              "      <th id=\"T_82cea_level0_col4\" class=\"col_heading level0 col4\" >Prec.</th>\n",
              "      <th id=\"T_82cea_level0_col5\" class=\"col_heading level0 col5\" >F1</th>\n",
              "      <th id=\"T_82cea_level0_col6\" class=\"col_heading level0 col6\" >Kappa</th>\n",
              "      <th id=\"T_82cea_level0_col7\" class=\"col_heading level0 col7\" >MCC</th>\n",
              "      <th id=\"T_82cea_level0_col8\" class=\"col_heading level0 col8\" >TT (Sec)</th>\n",
              "    </tr>\n",
              "  </thead>\n",
              "  <tbody>\n",
              "    <tr>\n",
              "      <th id=\"T_82cea_level0_row0\" class=\"row_heading level0 row0\" >knn</th>\n",
              "      <td id=\"T_82cea_row0_col0\" class=\"data row0 col0\" >K Neighbors Classifier</td>\n",
              "      <td id=\"T_82cea_row0_col1\" class=\"data row0 col1\" >1.0000</td>\n",
              "      <td id=\"T_82cea_row0_col2\" class=\"data row0 col2\" >0.0000</td>\n",
              "      <td id=\"T_82cea_row0_col3\" class=\"data row0 col3\" >1.0000</td>\n",
              "      <td id=\"T_82cea_row0_col4\" class=\"data row0 col4\" >1.0000</td>\n",
              "      <td id=\"T_82cea_row0_col5\" class=\"data row0 col5\" >1.0000</td>\n",
              "      <td id=\"T_82cea_row0_col6\" class=\"data row0 col6\" >nan</td>\n",
              "      <td id=\"T_82cea_row0_col7\" class=\"data row0 col7\" >0.0000</td>\n",
              "      <td id=\"T_82cea_row0_col8\" class=\"data row0 col8\" >0.6670</td>\n",
              "    </tr>\n",
              "    <tr>\n",
              "      <th id=\"T_82cea_level0_row1\" class=\"row_heading level0 row1\" >nb</th>\n",
              "      <td id=\"T_82cea_row1_col0\" class=\"data row1 col0\" >Naive Bayes</td>\n",
              "      <td id=\"T_82cea_row1_col1\" class=\"data row1 col1\" >1.0000</td>\n",
              "      <td id=\"T_82cea_row1_col2\" class=\"data row1 col2\" >0.0000</td>\n",
              "      <td id=\"T_82cea_row1_col3\" class=\"data row1 col3\" >1.0000</td>\n",
              "      <td id=\"T_82cea_row1_col4\" class=\"data row1 col4\" >1.0000</td>\n",
              "      <td id=\"T_82cea_row1_col5\" class=\"data row1 col5\" >1.0000</td>\n",
              "      <td id=\"T_82cea_row1_col6\" class=\"data row1 col6\" >nan</td>\n",
              "      <td id=\"T_82cea_row1_col7\" class=\"data row1 col7\" >0.0000</td>\n",
              "      <td id=\"T_82cea_row1_col8\" class=\"data row1 col8\" >0.3010</td>\n",
              "    </tr>\n",
              "    <tr>\n",
              "      <th id=\"T_82cea_level0_row2\" class=\"row_heading level0 row2\" >dt</th>\n",
              "      <td id=\"T_82cea_row2_col0\" class=\"data row2 col0\" >Decision Tree Classifier</td>\n",
              "      <td id=\"T_82cea_row2_col1\" class=\"data row2 col1\" >1.0000</td>\n",
              "      <td id=\"T_82cea_row2_col2\" class=\"data row2 col2\" >0.0000</td>\n",
              "      <td id=\"T_82cea_row2_col3\" class=\"data row2 col3\" >1.0000</td>\n",
              "      <td id=\"T_82cea_row2_col4\" class=\"data row2 col4\" >1.0000</td>\n",
              "      <td id=\"T_82cea_row2_col5\" class=\"data row2 col5\" >1.0000</td>\n",
              "      <td id=\"T_82cea_row2_col6\" class=\"data row2 col6\" >nan</td>\n",
              "      <td id=\"T_82cea_row2_col7\" class=\"data row2 col7\" >0.0000</td>\n",
              "      <td id=\"T_82cea_row2_col8\" class=\"data row2 col8\" >0.2890</td>\n",
              "    </tr>\n",
              "    <tr>\n",
              "      <th id=\"T_82cea_level0_row3\" class=\"row_heading level0 row3\" >ridge</th>\n",
              "      <td id=\"T_82cea_row3_col0\" class=\"data row3 col0\" >Ridge Classifier</td>\n",
              "      <td id=\"T_82cea_row3_col1\" class=\"data row3 col1\" >1.0000</td>\n",
              "      <td id=\"T_82cea_row3_col2\" class=\"data row3 col2\" >0.0000</td>\n",
              "      <td id=\"T_82cea_row3_col3\" class=\"data row3 col3\" >1.0000</td>\n",
              "      <td id=\"T_82cea_row3_col4\" class=\"data row3 col4\" >1.0000</td>\n",
              "      <td id=\"T_82cea_row3_col5\" class=\"data row3 col5\" >1.0000</td>\n",
              "      <td id=\"T_82cea_row3_col6\" class=\"data row3 col6\" >nan</td>\n",
              "      <td id=\"T_82cea_row3_col7\" class=\"data row3 col7\" >0.0000</td>\n",
              "      <td id=\"T_82cea_row3_col8\" class=\"data row3 col8\" >0.2900</td>\n",
              "    </tr>\n",
              "    <tr>\n",
              "      <th id=\"T_82cea_level0_row4\" class=\"row_heading level0 row4\" >rf</th>\n",
              "      <td id=\"T_82cea_row4_col0\" class=\"data row4 col0\" >Random Forest Classifier</td>\n",
              "      <td id=\"T_82cea_row4_col1\" class=\"data row4 col1\" >1.0000</td>\n",
              "      <td id=\"T_82cea_row4_col2\" class=\"data row4 col2\" >0.0000</td>\n",
              "      <td id=\"T_82cea_row4_col3\" class=\"data row4 col3\" >1.0000</td>\n",
              "      <td id=\"T_82cea_row4_col4\" class=\"data row4 col4\" >1.0000</td>\n",
              "      <td id=\"T_82cea_row4_col5\" class=\"data row4 col5\" >1.0000</td>\n",
              "      <td id=\"T_82cea_row4_col6\" class=\"data row4 col6\" >nan</td>\n",
              "      <td id=\"T_82cea_row4_col7\" class=\"data row4 col7\" >0.0000</td>\n",
              "      <td id=\"T_82cea_row4_col8\" class=\"data row4 col8\" >0.5360</td>\n",
              "    </tr>\n",
              "    <tr>\n",
              "      <th id=\"T_82cea_level0_row5\" class=\"row_heading level0 row5\" >ada</th>\n",
              "      <td id=\"T_82cea_row5_col0\" class=\"data row5 col0\" >Ada Boost Classifier</td>\n",
              "      <td id=\"T_82cea_row5_col1\" class=\"data row5 col1\" >1.0000</td>\n",
              "      <td id=\"T_82cea_row5_col2\" class=\"data row5 col2\" >0.0000</td>\n",
              "      <td id=\"T_82cea_row5_col3\" class=\"data row5 col3\" >1.0000</td>\n",
              "      <td id=\"T_82cea_row5_col4\" class=\"data row5 col4\" >1.0000</td>\n",
              "      <td id=\"T_82cea_row5_col5\" class=\"data row5 col5\" >1.0000</td>\n",
              "      <td id=\"T_82cea_row5_col6\" class=\"data row5 col6\" >nan</td>\n",
              "      <td id=\"T_82cea_row5_col7\" class=\"data row5 col7\" >0.0000</td>\n",
              "      <td id=\"T_82cea_row5_col8\" class=\"data row5 col8\" >0.3070</td>\n",
              "    </tr>\n",
              "    <tr>\n",
              "      <th id=\"T_82cea_level0_row6\" class=\"row_heading level0 row6\" >et</th>\n",
              "      <td id=\"T_82cea_row6_col0\" class=\"data row6 col0\" >Extra Trees Classifier</td>\n",
              "      <td id=\"T_82cea_row6_col1\" class=\"data row6 col1\" >1.0000</td>\n",
              "      <td id=\"T_82cea_row6_col2\" class=\"data row6 col2\" >0.0000</td>\n",
              "      <td id=\"T_82cea_row6_col3\" class=\"data row6 col3\" >1.0000</td>\n",
              "      <td id=\"T_82cea_row6_col4\" class=\"data row6 col4\" >1.0000</td>\n",
              "      <td id=\"T_82cea_row6_col5\" class=\"data row6 col5\" >1.0000</td>\n",
              "      <td id=\"T_82cea_row6_col6\" class=\"data row6 col6\" >nan</td>\n",
              "      <td id=\"T_82cea_row6_col7\" class=\"data row6 col7\" >0.0000</td>\n",
              "      <td id=\"T_82cea_row6_col8\" class=\"data row6 col8\" >0.4750</td>\n",
              "    </tr>\n",
              "    <tr>\n",
              "      <th id=\"T_82cea_level0_row7\" class=\"row_heading level0 row7\" >xgboost</th>\n",
              "      <td id=\"T_82cea_row7_col0\" class=\"data row7 col0\" >Extreme Gradient Boosting</td>\n",
              "      <td id=\"T_82cea_row7_col1\" class=\"data row7 col1\" >1.0000</td>\n",
              "      <td id=\"T_82cea_row7_col2\" class=\"data row7 col2\" >0.0000</td>\n",
              "      <td id=\"T_82cea_row7_col3\" class=\"data row7 col3\" >1.0000</td>\n",
              "      <td id=\"T_82cea_row7_col4\" class=\"data row7 col4\" >1.0000</td>\n",
              "      <td id=\"T_82cea_row7_col5\" class=\"data row7 col5\" >1.0000</td>\n",
              "      <td id=\"T_82cea_row7_col6\" class=\"data row7 col6\" >nan</td>\n",
              "      <td id=\"T_82cea_row7_col7\" class=\"data row7 col7\" >0.0000</td>\n",
              "      <td id=\"T_82cea_row7_col8\" class=\"data row7 col8\" >0.4770</td>\n",
              "    </tr>\n",
              "    <tr>\n",
              "      <th id=\"T_82cea_level0_row8\" class=\"row_heading level0 row8\" >lightgbm</th>\n",
              "      <td id=\"T_82cea_row8_col0\" class=\"data row8 col0\" >Light Gradient Boosting Machine</td>\n",
              "      <td id=\"T_82cea_row8_col1\" class=\"data row8 col1\" >1.0000</td>\n",
              "      <td id=\"T_82cea_row8_col2\" class=\"data row8 col2\" >0.0000</td>\n",
              "      <td id=\"T_82cea_row8_col3\" class=\"data row8 col3\" >1.0000</td>\n",
              "      <td id=\"T_82cea_row8_col4\" class=\"data row8 col4\" >1.0000</td>\n",
              "      <td id=\"T_82cea_row8_col5\" class=\"data row8 col5\" >1.0000</td>\n",
              "      <td id=\"T_82cea_row8_col6\" class=\"data row8 col6\" >nan</td>\n",
              "      <td id=\"T_82cea_row8_col7\" class=\"data row8 col7\" >0.0000</td>\n",
              "      <td id=\"T_82cea_row8_col8\" class=\"data row8 col8\" >0.3570</td>\n",
              "    </tr>\n",
              "    <tr>\n",
              "      <th id=\"T_82cea_level0_row9\" class=\"row_heading level0 row9\" >dummy</th>\n",
              "      <td id=\"T_82cea_row9_col0\" class=\"data row9 col0\" >Dummy Classifier</td>\n",
              "      <td id=\"T_82cea_row9_col1\" class=\"data row9 col1\" >1.0000</td>\n",
              "      <td id=\"T_82cea_row9_col2\" class=\"data row9 col2\" >0.0000</td>\n",
              "      <td id=\"T_82cea_row9_col3\" class=\"data row9 col3\" >1.0000</td>\n",
              "      <td id=\"T_82cea_row9_col4\" class=\"data row9 col4\" >1.0000</td>\n",
              "      <td id=\"T_82cea_row9_col5\" class=\"data row9 col5\" >1.0000</td>\n",
              "      <td id=\"T_82cea_row9_col6\" class=\"data row9 col6\" >nan</td>\n",
              "      <td id=\"T_82cea_row9_col7\" class=\"data row9 col7\" >0.0000</td>\n",
              "      <td id=\"T_82cea_row9_col8\" class=\"data row9 col8\" >0.3000</td>\n",
              "    </tr>\n",
              "  </tbody>\n",
              "</table>\n"
            ]
          },
          "metadata": {}
        },
        {
          "output_type": "display_data",
          "data": {
            "text/plain": [
              "Processing:   0%|          | 0/65 [00:00<?, ?it/s]"
            ],
            "application/vnd.jupyter.widget-view+json": {
              "version_major": 2,
              "version_minor": 0,
              "model_id": "72fb8c8f25ce44d18bac33f66f9a7f15"
            }
          },
          "metadata": {
            "application/vnd.jupyter.widget-view+json": {
              "colab": {
                "custom_widget_manager": {
                  "url": "https://ssl.gstatic.com/colaboratory-static/widgets/colab-cdn-widget-manager/2b70e893a8ba7c0f/manager.min.js"
                }
              }
            }
          }
        },
        {
          "output_type": "display_data",
          "data": {
            "text/plain": [
              "<IPython.core.display.HTML object>"
            ],
            "text/html": []
          },
          "metadata": {}
        }
      ]
    },
    {
      "cell_type": "code",
      "source": [
        "# Crear el modelo de análisis de sentimientos\n",
        "sentimiento_model = create_model(best_model)"
      ],
      "metadata": {
        "colab": {
          "base_uri": "https://localhost:8080/",
          "height": 457,
          "referenced_widgets": [
            "bc92360a90de4533a4bb69bb40eb8f64",
            "4c8e0c379f4f4cf7bc906715328cac99",
            "1f399e9ffa694231a02b529c2b4278f2",
            "c2a8518ff33d4b279ea63219950ec820",
            "25a2867202844f828bc3b84d01d1e5e7",
            "4e8f3989720d429091bb7acd8a17a511",
            "9fe34461ee2646b896b5dad7e8df8f61",
            "b0465a4a109d490fa29be066ab77124e",
            "cbb7fef685284aef9315a325be18b8d5",
            "d259513bbc484f9388442c9676fdbcdc",
            "64740aee06084e05991a822e85570b52"
          ]
        },
        "id": "PdwAG1HQJg_3",
        "outputId": "be9a7618-a502-40c2-a148-8212aff6c33a"
      },
      "execution_count": 15,
      "outputs": [
        {
          "output_type": "display_data",
          "data": {
            "text/plain": [
              "<IPython.core.display.HTML object>"
            ],
            "text/html": []
          },
          "metadata": {}
        },
        {
          "output_type": "display_data",
          "data": {
            "text/plain": [
              "<pandas.io.formats.style.Styler at 0x7d3050896500>"
            ],
            "text/html": [
              "<style type=\"text/css\">\n",
              "#T_bd664_row10_col0, #T_bd664_row10_col1, #T_bd664_row10_col2, #T_bd664_row10_col3, #T_bd664_row10_col4, #T_bd664_row10_col5, #T_bd664_row10_col6 {\n",
              "  background: yellow;\n",
              "}\n",
              "</style>\n",
              "<table id=\"T_bd664\" class=\"dataframe\">\n",
              "  <thead>\n",
              "    <tr>\n",
              "      <th class=\"blank level0\" >&nbsp;</th>\n",
              "      <th id=\"T_bd664_level0_col0\" class=\"col_heading level0 col0\" >Accuracy</th>\n",
              "      <th id=\"T_bd664_level0_col1\" class=\"col_heading level0 col1\" >AUC</th>\n",
              "      <th id=\"T_bd664_level0_col2\" class=\"col_heading level0 col2\" >Recall</th>\n",
              "      <th id=\"T_bd664_level0_col3\" class=\"col_heading level0 col3\" >Prec.</th>\n",
              "      <th id=\"T_bd664_level0_col4\" class=\"col_heading level0 col4\" >F1</th>\n",
              "      <th id=\"T_bd664_level0_col5\" class=\"col_heading level0 col5\" >Kappa</th>\n",
              "      <th id=\"T_bd664_level0_col6\" class=\"col_heading level0 col6\" >MCC</th>\n",
              "    </tr>\n",
              "    <tr>\n",
              "      <th class=\"index_name level0\" >Fold</th>\n",
              "      <th class=\"blank col0\" >&nbsp;</th>\n",
              "      <th class=\"blank col1\" >&nbsp;</th>\n",
              "      <th class=\"blank col2\" >&nbsp;</th>\n",
              "      <th class=\"blank col3\" >&nbsp;</th>\n",
              "      <th class=\"blank col4\" >&nbsp;</th>\n",
              "      <th class=\"blank col5\" >&nbsp;</th>\n",
              "      <th class=\"blank col6\" >&nbsp;</th>\n",
              "    </tr>\n",
              "  </thead>\n",
              "  <tbody>\n",
              "    <tr>\n",
              "      <th id=\"T_bd664_level0_row0\" class=\"row_heading level0 row0\" >0</th>\n",
              "      <td id=\"T_bd664_row0_col0\" class=\"data row0 col0\" >1.0000</td>\n",
              "      <td id=\"T_bd664_row0_col1\" class=\"data row0 col1\" >0.0000</td>\n",
              "      <td id=\"T_bd664_row0_col2\" class=\"data row0 col2\" >1.0000</td>\n",
              "      <td id=\"T_bd664_row0_col3\" class=\"data row0 col3\" >1.0000</td>\n",
              "      <td id=\"T_bd664_row0_col4\" class=\"data row0 col4\" >1.0000</td>\n",
              "      <td id=\"T_bd664_row0_col5\" class=\"data row0 col5\" >nan</td>\n",
              "      <td id=\"T_bd664_row0_col6\" class=\"data row0 col6\" >0.0000</td>\n",
              "    </tr>\n",
              "    <tr>\n",
              "      <th id=\"T_bd664_level0_row1\" class=\"row_heading level0 row1\" >1</th>\n",
              "      <td id=\"T_bd664_row1_col0\" class=\"data row1 col0\" >1.0000</td>\n",
              "      <td id=\"T_bd664_row1_col1\" class=\"data row1 col1\" >0.0000</td>\n",
              "      <td id=\"T_bd664_row1_col2\" class=\"data row1 col2\" >1.0000</td>\n",
              "      <td id=\"T_bd664_row1_col3\" class=\"data row1 col3\" >1.0000</td>\n",
              "      <td id=\"T_bd664_row1_col4\" class=\"data row1 col4\" >1.0000</td>\n",
              "      <td id=\"T_bd664_row1_col5\" class=\"data row1 col5\" >nan</td>\n",
              "      <td id=\"T_bd664_row1_col6\" class=\"data row1 col6\" >0.0000</td>\n",
              "    </tr>\n",
              "    <tr>\n",
              "      <th id=\"T_bd664_level0_row2\" class=\"row_heading level0 row2\" >2</th>\n",
              "      <td id=\"T_bd664_row2_col0\" class=\"data row2 col0\" >1.0000</td>\n",
              "      <td id=\"T_bd664_row2_col1\" class=\"data row2 col1\" >0.0000</td>\n",
              "      <td id=\"T_bd664_row2_col2\" class=\"data row2 col2\" >1.0000</td>\n",
              "      <td id=\"T_bd664_row2_col3\" class=\"data row2 col3\" >1.0000</td>\n",
              "      <td id=\"T_bd664_row2_col4\" class=\"data row2 col4\" >1.0000</td>\n",
              "      <td id=\"T_bd664_row2_col5\" class=\"data row2 col5\" >nan</td>\n",
              "      <td id=\"T_bd664_row2_col6\" class=\"data row2 col6\" >0.0000</td>\n",
              "    </tr>\n",
              "    <tr>\n",
              "      <th id=\"T_bd664_level0_row3\" class=\"row_heading level0 row3\" >3</th>\n",
              "      <td id=\"T_bd664_row3_col0\" class=\"data row3 col0\" >1.0000</td>\n",
              "      <td id=\"T_bd664_row3_col1\" class=\"data row3 col1\" >0.0000</td>\n",
              "      <td id=\"T_bd664_row3_col2\" class=\"data row3 col2\" >1.0000</td>\n",
              "      <td id=\"T_bd664_row3_col3\" class=\"data row3 col3\" >1.0000</td>\n",
              "      <td id=\"T_bd664_row3_col4\" class=\"data row3 col4\" >1.0000</td>\n",
              "      <td id=\"T_bd664_row3_col5\" class=\"data row3 col5\" >nan</td>\n",
              "      <td id=\"T_bd664_row3_col6\" class=\"data row3 col6\" >0.0000</td>\n",
              "    </tr>\n",
              "    <tr>\n",
              "      <th id=\"T_bd664_level0_row4\" class=\"row_heading level0 row4\" >4</th>\n",
              "      <td id=\"T_bd664_row4_col0\" class=\"data row4 col0\" >1.0000</td>\n",
              "      <td id=\"T_bd664_row4_col1\" class=\"data row4 col1\" >0.0000</td>\n",
              "      <td id=\"T_bd664_row4_col2\" class=\"data row4 col2\" >1.0000</td>\n",
              "      <td id=\"T_bd664_row4_col3\" class=\"data row4 col3\" >1.0000</td>\n",
              "      <td id=\"T_bd664_row4_col4\" class=\"data row4 col4\" >1.0000</td>\n",
              "      <td id=\"T_bd664_row4_col5\" class=\"data row4 col5\" >nan</td>\n",
              "      <td id=\"T_bd664_row4_col6\" class=\"data row4 col6\" >0.0000</td>\n",
              "    </tr>\n",
              "    <tr>\n",
              "      <th id=\"T_bd664_level0_row5\" class=\"row_heading level0 row5\" >5</th>\n",
              "      <td id=\"T_bd664_row5_col0\" class=\"data row5 col0\" >1.0000</td>\n",
              "      <td id=\"T_bd664_row5_col1\" class=\"data row5 col1\" >0.0000</td>\n",
              "      <td id=\"T_bd664_row5_col2\" class=\"data row5 col2\" >1.0000</td>\n",
              "      <td id=\"T_bd664_row5_col3\" class=\"data row5 col3\" >1.0000</td>\n",
              "      <td id=\"T_bd664_row5_col4\" class=\"data row5 col4\" >1.0000</td>\n",
              "      <td id=\"T_bd664_row5_col5\" class=\"data row5 col5\" >nan</td>\n",
              "      <td id=\"T_bd664_row5_col6\" class=\"data row5 col6\" >0.0000</td>\n",
              "    </tr>\n",
              "    <tr>\n",
              "      <th id=\"T_bd664_level0_row6\" class=\"row_heading level0 row6\" >6</th>\n",
              "      <td id=\"T_bd664_row6_col0\" class=\"data row6 col0\" >1.0000</td>\n",
              "      <td id=\"T_bd664_row6_col1\" class=\"data row6 col1\" >0.0000</td>\n",
              "      <td id=\"T_bd664_row6_col2\" class=\"data row6 col2\" >1.0000</td>\n",
              "      <td id=\"T_bd664_row6_col3\" class=\"data row6 col3\" >1.0000</td>\n",
              "      <td id=\"T_bd664_row6_col4\" class=\"data row6 col4\" >1.0000</td>\n",
              "      <td id=\"T_bd664_row6_col5\" class=\"data row6 col5\" >nan</td>\n",
              "      <td id=\"T_bd664_row6_col6\" class=\"data row6 col6\" >0.0000</td>\n",
              "    </tr>\n",
              "    <tr>\n",
              "      <th id=\"T_bd664_level0_row7\" class=\"row_heading level0 row7\" >7</th>\n",
              "      <td id=\"T_bd664_row7_col0\" class=\"data row7 col0\" >1.0000</td>\n",
              "      <td id=\"T_bd664_row7_col1\" class=\"data row7 col1\" >0.0000</td>\n",
              "      <td id=\"T_bd664_row7_col2\" class=\"data row7 col2\" >1.0000</td>\n",
              "      <td id=\"T_bd664_row7_col3\" class=\"data row7 col3\" >1.0000</td>\n",
              "      <td id=\"T_bd664_row7_col4\" class=\"data row7 col4\" >1.0000</td>\n",
              "      <td id=\"T_bd664_row7_col5\" class=\"data row7 col5\" >nan</td>\n",
              "      <td id=\"T_bd664_row7_col6\" class=\"data row7 col6\" >0.0000</td>\n",
              "    </tr>\n",
              "    <tr>\n",
              "      <th id=\"T_bd664_level0_row8\" class=\"row_heading level0 row8\" >8</th>\n",
              "      <td id=\"T_bd664_row8_col0\" class=\"data row8 col0\" >1.0000</td>\n",
              "      <td id=\"T_bd664_row8_col1\" class=\"data row8 col1\" >0.0000</td>\n",
              "      <td id=\"T_bd664_row8_col2\" class=\"data row8 col2\" >1.0000</td>\n",
              "      <td id=\"T_bd664_row8_col3\" class=\"data row8 col3\" >1.0000</td>\n",
              "      <td id=\"T_bd664_row8_col4\" class=\"data row8 col4\" >1.0000</td>\n",
              "      <td id=\"T_bd664_row8_col5\" class=\"data row8 col5\" >nan</td>\n",
              "      <td id=\"T_bd664_row8_col6\" class=\"data row8 col6\" >0.0000</td>\n",
              "    </tr>\n",
              "    <tr>\n",
              "      <th id=\"T_bd664_level0_row9\" class=\"row_heading level0 row9\" >9</th>\n",
              "      <td id=\"T_bd664_row9_col0\" class=\"data row9 col0\" >1.0000</td>\n",
              "      <td id=\"T_bd664_row9_col1\" class=\"data row9 col1\" >0.0000</td>\n",
              "      <td id=\"T_bd664_row9_col2\" class=\"data row9 col2\" >1.0000</td>\n",
              "      <td id=\"T_bd664_row9_col3\" class=\"data row9 col3\" >1.0000</td>\n",
              "      <td id=\"T_bd664_row9_col4\" class=\"data row9 col4\" >1.0000</td>\n",
              "      <td id=\"T_bd664_row9_col5\" class=\"data row9 col5\" >nan</td>\n",
              "      <td id=\"T_bd664_row9_col6\" class=\"data row9 col6\" >0.0000</td>\n",
              "    </tr>\n",
              "    <tr>\n",
              "      <th id=\"T_bd664_level0_row10\" class=\"row_heading level0 row10\" >Mean</th>\n",
              "      <td id=\"T_bd664_row10_col0\" class=\"data row10 col0\" >1.0000</td>\n",
              "      <td id=\"T_bd664_row10_col1\" class=\"data row10 col1\" >0.0000</td>\n",
              "      <td id=\"T_bd664_row10_col2\" class=\"data row10 col2\" >1.0000</td>\n",
              "      <td id=\"T_bd664_row10_col3\" class=\"data row10 col3\" >1.0000</td>\n",
              "      <td id=\"T_bd664_row10_col4\" class=\"data row10 col4\" >1.0000</td>\n",
              "      <td id=\"T_bd664_row10_col5\" class=\"data row10 col5\" >nan</td>\n",
              "      <td id=\"T_bd664_row10_col6\" class=\"data row10 col6\" >0.0000</td>\n",
              "    </tr>\n",
              "    <tr>\n",
              "      <th id=\"T_bd664_level0_row11\" class=\"row_heading level0 row11\" >Std</th>\n",
              "      <td id=\"T_bd664_row11_col0\" class=\"data row11 col0\" >0.0000</td>\n",
              "      <td id=\"T_bd664_row11_col1\" class=\"data row11 col1\" >0.0000</td>\n",
              "      <td id=\"T_bd664_row11_col2\" class=\"data row11 col2\" >0.0000</td>\n",
              "      <td id=\"T_bd664_row11_col3\" class=\"data row11 col3\" >0.0000</td>\n",
              "      <td id=\"T_bd664_row11_col4\" class=\"data row11 col4\" >0.0000</td>\n",
              "      <td id=\"T_bd664_row11_col5\" class=\"data row11 col5\" >nan</td>\n",
              "      <td id=\"T_bd664_row11_col6\" class=\"data row11 col6\" >0.0000</td>\n",
              "    </tr>\n",
              "  </tbody>\n",
              "</table>\n"
            ]
          },
          "metadata": {}
        },
        {
          "output_type": "display_data",
          "data": {
            "text/plain": [
              "Processing:   0%|          | 0/4 [00:00<?, ?it/s]"
            ],
            "application/vnd.jupyter.widget-view+json": {
              "version_major": 2,
              "version_minor": 0,
              "model_id": "bc92360a90de4533a4bb69bb40eb8f64"
            }
          },
          "metadata": {
            "application/vnd.jupyter.widget-view+json": {
              "colab": {
                "custom_widget_manager": {
                  "url": "https://ssl.gstatic.com/colaboratory-static/widgets/colab-cdn-widget-manager/2b70e893a8ba7c0f/manager.min.js"
                }
              }
            }
          }
        },
        {
          "output_type": "display_data",
          "data": {
            "text/plain": [
              "<IPython.core.display.HTML object>"
            ],
            "text/html": []
          },
          "metadata": {}
        }
      ]
    },
    {
      "cell_type": "code",
      "source": [
        " # Evaluar el modelo\n",
        "evaluate_model(sentimiento_model)"
      ],
      "metadata": {
        "colab": {
          "base_uri": "https://localhost:8080/",
          "height": 254,
          "referenced_widgets": [
            "ac33f989d07b4e858f4ac091240d0089",
            "c121c82fe3814413a3f8bb84091894bc",
            "19608272fa774652b6c878ba86e97ab3",
            "a14569bfaa354685b4911c6449ad2d24",
            "d15b6f87aca54a14834254b0b2330fa2",
            "8d69731eb6724cdf8b3d5b0d0194a26f",
            "11e2c565b1c946e4a6e94254810eb28c"
          ]
        },
        "id": "uNfYODOmJl9B",
        "outputId": "9fda6162-0989-46cb-a0ad-41869a7ab022"
      },
      "execution_count": 16,
      "outputs": [
        {
          "output_type": "display_data",
          "data": {
            "text/plain": [
              "interactive(children=(ToggleButtons(description='Plot Type:', icons=('',), options=(('Pipeline Plot', 'pipelin…"
            ],
            "application/vnd.jupyter.widget-view+json": {
              "version_major": 2,
              "version_minor": 0,
              "model_id": "ac33f989d07b4e858f4ac091240d0089"
            }
          },
          "metadata": {
            "application/vnd.jupyter.widget-view+json": {
              "colab": {
                "custom_widget_manager": {
                  "url": "https://ssl.gstatic.com/colaboratory-static/widgets/colab-cdn-widget-manager/2b70e893a8ba7c0f/manager.min.js"
                }
              }
            }
          }
        }
      ]
    },
    {
      "cell_type": "code",
      "source": [
        "pip install sklearn-json\n"
      ],
      "metadata": {
        "colab": {
          "base_uri": "https://localhost:8080/"
        },
        "id": "TBYA6e0xm31Z",
        "outputId": "fa3e92bf-df13-49dc-c684-f7cf52576694"
      },
      "execution_count": null,
      "outputs": [
        {
          "output_type": "stream",
          "name": "stdout",
          "text": [
            "Collecting sklearn-json\n",
            "  Downloading sklearn_json-0.1.0-py3-none-any.whl (12 kB)\n",
            "Requirement already satisfied: scikit-learn>=0.21.3 in /usr/local/lib/python3.10/dist-packages (from sklearn-json) (1.4.2)\n",
            "Requirement already satisfied: numpy>=1.19.5 in /usr/local/lib/python3.10/dist-packages (from scikit-learn>=0.21.3->sklearn-json) (1.25.2)\n",
            "Requirement already satisfied: scipy>=1.6.0 in /usr/local/lib/python3.10/dist-packages (from scikit-learn>=0.21.3->sklearn-json) (1.11.4)\n",
            "Requirement already satisfied: joblib>=1.2.0 in /usr/local/lib/python3.10/dist-packages (from scikit-learn>=0.21.3->sklearn-json) (1.3.2)\n",
            "Requirement already satisfied: threadpoolctl>=2.0.0 in /usr/local/lib/python3.10/dist-packages (from scikit-learn>=0.21.3->sklearn-json) (3.5.0)\n",
            "Installing collected packages: sklearn-json\n",
            "Successfully installed sklearn-json-0.1.0\n"
          ]
        }
      ]
    },
    {
      "cell_type": "code",
      "source": [
        "import json"
      ],
      "metadata": {
        "id": "8vd0DIXSm8yp"
      },
      "execution_count": null,
      "outputs": []
    },
    {
      "cell_type": "code",
      "source": [
        "import pickle"
      ],
      "metadata": {
        "id": "yRATLUHGn3l8"
      },
      "execution_count": null,
      "outputs": []
    },
    {
      "cell_type": "code",
      "source": [
        "import joblib\n",
        "\n",
        "\n"
      ],
      "metadata": {
        "id": "-PG8PJkZn7AQ"
      },
      "execution_count": null,
      "outputs": []
    },
    {
      "cell_type": "code",
      "source": [
        "# Serializar el modelo entrenado con pickle\n",
        "modelo_serializado = pickle.dumps(sentimiento_model)"
      ],
      "metadata": {
        "id": "aN7PGeaTo3cS"
      },
      "execution_count": null,
      "outputs": []
    },
    {
      "cell_type": "code",
      "source": [
        "# Convertir el modelo serializado a JSON\n",
        "modelo_json = json.dumps(modelo_serializado.decode('latin1'))\n",
        "\n",
        "# Gu"
      ],
      "metadata": {
        "id": "BQ3hbYKSpEcf"
      },
      "execution_count": null,
      "outputs": []
    },
    {
      "cell_type": "code",
      "source": [
        "# Guardar el modelo JSON en un archivo\n",
        "with open('modelo_entrenado.json', 'w') as file:\n",
        "    file.write(modelo_json)"
      ],
      "metadata": {
        "id": "J7zRqAuWpHV6"
      },
      "execution_count": null,
      "outputs": []
    }
  ]
}